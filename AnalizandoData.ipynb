{
 "cells": [
  {
   "cell_type": "code",
   "execution_count": 1,
   "id": "996c4ab4",
   "metadata": {},
   "outputs": [
    {
     "name": "stderr",
     "output_type": "stream",
     "text": [
      "playsound is relying on another python subprocess. Please use `pip install pygobject` if you want playsound to run more efficiently.\n"
     ]
    }
   ],
   "source": [
    "import xgboost as xgb\n",
    "from sklearn.ensemble import RandomForestRegressor\n",
    "from sklearn.metrics import mean_squared_error\n",
    "import pandas as pd\n",
    "import numpy as np\n",
    "%matplotlib inline\n",
    "import matplotlib.pyplot as plt\n",
    "from sklearn import tree\n",
    "\n",
    "from sklearn.linear_model import LogisticRegression\n",
    "from sklearn.model_selection import train_test_split\n",
    "from sklearn.metrics import classification_report, accuracy_score, roc_auc_score, ConfusionMatrixDisplay, confusion_matrix\n",
    "\n",
    "import wave # Leer audios .wav\n",
    "from playsound import playsound  # Reproducir sonido"
   ]
  },
  {
   "cell_type": "code",
   "execution_count": 2,
   "id": "e6f27cc6",
   "metadata": {},
   "outputs": [],
   "source": [
    "test_directory = './genres/blues/blues.00000.wav'"
   ]
  },
  {
   "cell_type": "code",
   "execution_count": 3,
   "id": "25bb0472",
   "metadata": {},
   "outputs": [],
   "source": [
    "sound = wave.open(test_directory, 'rb')"
   ]
  },
  {
   "cell_type": "code",
   "execution_count": 4,
   "id": "25f4dedc",
   "metadata": {},
   "outputs": [
    {
     "data": {
      "text/plain": [
       "22050"
      ]
     },
     "execution_count": 4,
     "metadata": {},
     "output_type": "execute_result"
    }
   ],
   "source": [
    "sound.getframerate()"
   ]
  },
  {
   "cell_type": "code",
   "execution_count": 5,
   "id": "e6bfa5cf",
   "metadata": {},
   "outputs": [
    {
     "data": {
      "text/plain": [
       "661794"
      ]
     },
     "execution_count": 5,
     "metadata": {},
     "output_type": "execute_result"
    }
   ],
   "source": [
    "sound.getnframes()"
   ]
  },
  {
   "cell_type": "code",
   "execution_count": 6,
   "id": "05faee20",
   "metadata": {},
   "outputs": [
    {
     "ename": "TypeError",
     "evalue": "'module' object is not callable",
     "output_type": "error",
     "traceback": [
      "\u001b[0;31m---------------------------------------------------------------------------\u001b[0m",
      "\u001b[0;31mTypeError\u001b[0m                                 Traceback (most recent call last)",
      "\u001b[0;32m/tmp/ipykernel_29885/1423100650.py\u001b[0m in \u001b[0;36m<module>\u001b[0;34m\u001b[0m\n\u001b[0;32m----> 1\u001b[0;31m \u001b[0mplaysound\u001b[0m\u001b[0;34m(\u001b[0m\u001b[0mtest_directory\u001b[0m\u001b[0;34m)\u001b[0m\u001b[0;34m\u001b[0m\u001b[0;34m\u001b[0m\u001b[0m\n\u001b[0m",
      "\u001b[0;31mTypeError\u001b[0m: 'module' object is not callable"
     ]
    }
   ],
   "source": [
    "playsound(test_directory)"
   ]
  },
  {
   "cell_type": "code",
   "execution_count": null,
   "id": "8bb2bc1d",
   "metadata": {},
   "outputs": [],
   "source": []
  }
 ],
 "metadata": {
  "kernelspec": {
   "display_name": "organizacionDatos",
   "language": "python",
   "name": "organizaciondatos"
  },
  "language_info": {
   "codemirror_mode": {
    "name": "ipython",
    "version": 3
   },
   "file_extension": ".py",
   "mimetype": "text/x-python",
   "name": "python",
   "nbconvert_exporter": "python",
   "pygments_lexer": "ipython3",
   "version": "3.9.6"
  }
 },
 "nbformat": 4,
 "nbformat_minor": 5
}
