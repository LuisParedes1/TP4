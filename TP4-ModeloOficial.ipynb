{
 "cells": [
  {
   "cell_type": "markdown",
   "metadata": {},
   "source": [
    "# GTZAN Genre Collection: Construir un clasificado\n",
    "\n",
    "\n",
    "El [dataset](http://marsyas.info/downloads/datasets.html) consta de 1000 audios de 30 segundos en formato .wav de 10 géneros musicales distintos.\n",
    "\n",
    "> Tarea: Construir un clasificador\n",
    "\n",
    "¿Qué tan bien funciona en validación (10% random de cada género)? \n",
    "¿Qué features usar?"
   ]
  },
  {
   "cell_type": "code",
   "execution_count": 1,
   "metadata": {},
   "outputs": [],
   "source": [
    "import pandas as pd\n",
    "import numpy as np\n",
    "import matplotlib as mpl\n",
    "import matplotlib.pyplot as plt\n",
    "from scipy import signal\n",
    "import librosa\n",
    "from tqdm import tqdm\n",
    "\n",
    "from sklearn.preprocessing import StandardScaler\n",
    "from sklearn.metrics import precision_score, recall_score, roc_curve"
   ]
  },
  {
   "cell_type": "markdown",
   "metadata": {},
   "source": [
    "# Analiso la data\n",
    "\n",
    "Cargo los espectogramas correspondientes a cada cancion como data_set y tomo como label la carpeta a la que pertenece dicha cancion.\n",
    "\n",
    "Tomo las primeras 10 canciones de cada genero como parte de mi test_set y las 90 canciones restantes luego las separo en train_set y validation_set"
   ]
  },
  {
   "cell_type": "code",
   "execution_count": 2,
   "metadata": {},
   "outputs": [],
   "source": [
    "from glob import glob\n",
    "\n",
    "base = \"genres/\"\n",
    "genres = ['blues', 'classical', 'country', 'disco', 'hiphop', 'jazz', 'metal', 'pop', 'reggae', 'rock']"
   ]
  },
  {
   "cell_type": "markdown",
   "metadata": {},
   "source": [
    "Analizando la data observamos que no todas las canciones duran exactamente 30 segundos, eso trae como consecuencia que las señales recibidas (sig) sea ligeramente distinto haciendo que los tiempos cambien para cada cancion.\n",
    "\n",
    "Para solucionar este problema, truncamos las señales para que considere las correspondiente a 29.9 segundos"
   ]
  },
  {
   "cell_type": "code",
   "execution_count": 4,
   "metadata": {},
   "outputs": [],
   "source": [
    "data = np.empty((0,129), float)"
   ]
  },
  {
   "cell_type": "code",
   "execution_count": 3,
   "metadata": {},
   "outputs": [
    {
     "name": "stderr",
     "output_type": "stream",
     "text": [
      "100%|██████████| 10/10 [16:12<00:00, 97.30s/it]\n"
     ]
    }
   ],
   "source": [
    "data = np.empty((0,5886), float)\n",
    "data_test = np.empty((0,5886), float)\n",
    "\n",
    "labels = []\n",
    "labels_test = []\n",
    "\n",
    "max_len_of_songs= int(29.9*22050*2)\n",
    "\n",
    "for genre in tqdm(genres):\n",
    "    \n",
    "    path = base+genre\n",
    "    songs = sorted(glob(path+\"/*.wav\"))\n",
    "    for k, song in enumerate(songs[:]):\n",
    "        \n",
    "        sig, rate = librosa.load(song,sr=22050*2)\n",
    "        frequencies, times, spectrogram = signal.spectrogram(sig[:max_len_of_songs],rate)\n",
    "        \n",
    "        if k >= 10:\n",
    "            data = np.concatenate((data, spectrogram.T.mean(axis=1).reshape(1,5886)), axis=0)\n",
    "            labels.extend([genre])\n",
    "        else:\n",
    "            data_test = np.concatenate((data_test, spectrogram.T.mean(axis=1).reshape(1,5886)), axis=0)\n",
    "            labels_test.extend([genre])"
   ]
  },
  {
   "cell_type": "code",
   "execution_count": 6,
   "metadata": {},
   "outputs": [
    {
     "data": {
      "text/html": [
       "<div>\n",
       "<style scoped>\n",
       "    .dataframe tbody tr th:only-of-type {\n",
       "        vertical-align: middle;\n",
       "    }\n",
       "\n",
       "    .dataframe tbody tr th {\n",
       "        vertical-align: top;\n",
       "    }\n",
       "\n",
       "    .dataframe thead th {\n",
       "        text-align: right;\n",
       "    }\n",
       "</style>\n",
       "<table border=\"1\" class=\"dataframe\">\n",
       "  <thead>\n",
       "    <tr style=\"text-align: right;\">\n",
       "      <th></th>\n",
       "      <th>0</th>\n",
       "      <th>1</th>\n",
       "      <th>2</th>\n",
       "      <th>3</th>\n",
       "      <th>4</th>\n",
       "      <th>5</th>\n",
       "      <th>6</th>\n",
       "      <th>7</th>\n",
       "      <th>8</th>\n",
       "      <th>9</th>\n",
       "      <th>...</th>\n",
       "      <th>5876</th>\n",
       "      <th>5877</th>\n",
       "      <th>5878</th>\n",
       "      <th>5879</th>\n",
       "      <th>5880</th>\n",
       "      <th>5881</th>\n",
       "      <th>5882</th>\n",
       "      <th>5883</th>\n",
       "      <th>5884</th>\n",
       "      <th>5885</th>\n",
       "    </tr>\n",
       "  </thead>\n",
       "  <tbody>\n",
       "    <tr>\n",
       "      <th>0</th>\n",
       "      <td>2.238875e-06</td>\n",
       "      <td>1.037237e-06</td>\n",
       "      <td>2.203183e-06</td>\n",
       "      <td>2.712548e-06</td>\n",
       "      <td>1.569723e-06</td>\n",
       "      <td>1.242984e-06</td>\n",
       "      <td>2.279165e-06</td>\n",
       "      <td>1.922800e-06</td>\n",
       "      <td>2.116325e-06</td>\n",
       "      <td>2.797039e-06</td>\n",
       "      <td>...</td>\n",
       "      <td>1.789646e-07</td>\n",
       "      <td>1.636445e-07</td>\n",
       "      <td>1.782794e-07</td>\n",
       "      <td>2.284478e-07</td>\n",
       "      <td>1.815005e-07</td>\n",
       "      <td>1.864456e-07</td>\n",
       "      <td>1.142014e-07</td>\n",
       "      <td>6.331630e-08</td>\n",
       "      <td>1.132182e-07</td>\n",
       "      <td>8.257041e-08</td>\n",
       "    </tr>\n",
       "    <tr>\n",
       "      <th>1</th>\n",
       "      <td>3.653466e-08</td>\n",
       "      <td>1.310547e-07</td>\n",
       "      <td>9.800927e-08</td>\n",
       "      <td>6.105414e-08</td>\n",
       "      <td>1.069834e-07</td>\n",
       "      <td>5.709834e-08</td>\n",
       "      <td>1.469337e-07</td>\n",
       "      <td>7.911495e-08</td>\n",
       "      <td>1.267696e-07</td>\n",
       "      <td>1.093936e-07</td>\n",
       "      <td>...</td>\n",
       "      <td>1.033268e-07</td>\n",
       "      <td>2.687472e-07</td>\n",
       "      <td>8.691077e-07</td>\n",
       "      <td>9.687213e-07</td>\n",
       "      <td>1.069851e-06</td>\n",
       "      <td>8.062119e-07</td>\n",
       "      <td>8.444222e-08</td>\n",
       "      <td>5.916943e-07</td>\n",
       "      <td>9.249194e-07</td>\n",
       "      <td>6.703698e-07</td>\n",
       "    </tr>\n",
       "    <tr>\n",
       "      <th>2</th>\n",
       "      <td>6.002224e-07</td>\n",
       "      <td>7.443720e-07</td>\n",
       "      <td>8.619202e-07</td>\n",
       "      <td>7.533689e-07</td>\n",
       "      <td>5.858706e-07</td>\n",
       "      <td>5.166179e-07</td>\n",
       "      <td>4.787922e-07</td>\n",
       "      <td>5.842786e-07</td>\n",
       "      <td>5.015228e-07</td>\n",
       "      <td>3.825638e-07</td>\n",
       "      <td>...</td>\n",
       "      <td>1.601867e-06</td>\n",
       "      <td>7.993848e-07</td>\n",
       "      <td>2.732875e-06</td>\n",
       "      <td>1.012836e-06</td>\n",
       "      <td>7.027735e-07</td>\n",
       "      <td>1.860945e-06</td>\n",
       "      <td>5.845715e-07</td>\n",
       "      <td>6.013610e-07</td>\n",
       "      <td>7.765065e-07</td>\n",
       "      <td>9.313830e-07</td>\n",
       "    </tr>\n",
       "    <tr>\n",
       "      <th>3</th>\n",
       "      <td>2.820408e-07</td>\n",
       "      <td>5.260800e-07</td>\n",
       "      <td>4.192725e-07</td>\n",
       "      <td>2.428252e-07</td>\n",
       "      <td>2.191517e-07</td>\n",
       "      <td>3.528003e-07</td>\n",
       "      <td>2.057803e-07</td>\n",
       "      <td>3.244559e-07</td>\n",
       "      <td>2.732166e-07</td>\n",
       "      <td>1.348755e-07</td>\n",
       "      <td>...</td>\n",
       "      <td>7.851027e-07</td>\n",
       "      <td>2.561371e-07</td>\n",
       "      <td>2.257331e-07</td>\n",
       "      <td>6.149986e-07</td>\n",
       "      <td>4.621291e-07</td>\n",
       "      <td>6.081410e-08</td>\n",
       "      <td>2.495417e-07</td>\n",
       "      <td>2.070650e-07</td>\n",
       "      <td>1.082681e-07</td>\n",
       "      <td>1.311098e-07</td>\n",
       "    </tr>\n",
       "    <tr>\n",
       "      <th>4</th>\n",
       "      <td>1.006129e-07</td>\n",
       "      <td>1.579804e-07</td>\n",
       "      <td>1.617790e-07</td>\n",
       "      <td>2.584490e-07</td>\n",
       "      <td>1.243629e-07</td>\n",
       "      <td>7.726150e-08</td>\n",
       "      <td>8.413748e-08</td>\n",
       "      <td>1.878644e-07</td>\n",
       "      <td>1.516573e-07</td>\n",
       "      <td>8.169071e-08</td>\n",
       "      <td>...</td>\n",
       "      <td>7.266732e-08</td>\n",
       "      <td>2.109666e-08</td>\n",
       "      <td>5.132869e-08</td>\n",
       "      <td>1.183902e-08</td>\n",
       "      <td>2.670680e-08</td>\n",
       "      <td>7.997687e-08</td>\n",
       "      <td>7.938014e-08</td>\n",
       "      <td>8.497867e-08</td>\n",
       "      <td>1.286427e-07</td>\n",
       "      <td>2.307332e-07</td>\n",
       "    </tr>\n",
       "    <tr>\n",
       "      <th>...</th>\n",
       "      <td>...</td>\n",
       "      <td>...</td>\n",
       "      <td>...</td>\n",
       "      <td>...</td>\n",
       "      <td>...</td>\n",
       "      <td>...</td>\n",
       "      <td>...</td>\n",
       "      <td>...</td>\n",
       "      <td>...</td>\n",
       "      <td>...</td>\n",
       "      <td>...</td>\n",
       "      <td>...</td>\n",
       "      <td>...</td>\n",
       "      <td>...</td>\n",
       "      <td>...</td>\n",
       "      <td>...</td>\n",
       "      <td>...</td>\n",
       "      <td>...</td>\n",
       "      <td>...</td>\n",
       "      <td>...</td>\n",
       "      <td>...</td>\n",
       "    </tr>\n",
       "    <tr>\n",
       "      <th>895</th>\n",
       "      <td>1.627457e-07</td>\n",
       "      <td>4.958352e-08</td>\n",
       "      <td>2.907965e-07</td>\n",
       "      <td>1.152614e-07</td>\n",
       "      <td>1.329753e-07</td>\n",
       "      <td>9.542887e-08</td>\n",
       "      <td>1.478833e-07</td>\n",
       "      <td>2.538444e-07</td>\n",
       "      <td>1.497487e-07</td>\n",
       "      <td>1.243410e-07</td>\n",
       "      <td>...</td>\n",
       "      <td>7.967280e-07</td>\n",
       "      <td>6.743305e-07</td>\n",
       "      <td>1.052264e-07</td>\n",
       "      <td>5.774848e-08</td>\n",
       "      <td>4.235331e-07</td>\n",
       "      <td>6.370144e-07</td>\n",
       "      <td>2.470796e-07</td>\n",
       "      <td>1.642042e-07</td>\n",
       "      <td>4.416375e-07</td>\n",
       "      <td>3.246522e-07</td>\n",
       "    </tr>\n",
       "    <tr>\n",
       "      <th>896</th>\n",
       "      <td>1.754109e-07</td>\n",
       "      <td>4.148319e-08</td>\n",
       "      <td>1.404240e-07</td>\n",
       "      <td>2.172317e-07</td>\n",
       "      <td>6.597973e-08</td>\n",
       "      <td>8.685821e-08</td>\n",
       "      <td>8.817978e-08</td>\n",
       "      <td>1.397334e-07</td>\n",
       "      <td>6.215356e-08</td>\n",
       "      <td>1.209817e-07</td>\n",
       "      <td>...</td>\n",
       "      <td>2.535671e-07</td>\n",
       "      <td>1.118602e-07</td>\n",
       "      <td>2.368717e-07</td>\n",
       "      <td>1.401981e-07</td>\n",
       "      <td>1.738785e-07</td>\n",
       "      <td>1.662833e-07</td>\n",
       "      <td>2.236996e-07</td>\n",
       "      <td>5.675599e-07</td>\n",
       "      <td>3.881732e-07</td>\n",
       "      <td>6.266933e-07</td>\n",
       "    </tr>\n",
       "    <tr>\n",
       "      <th>897</th>\n",
       "      <td>1.472436e-07</td>\n",
       "      <td>1.546431e-07</td>\n",
       "      <td>1.496673e-07</td>\n",
       "      <td>1.223550e-07</td>\n",
       "      <td>1.166560e-07</td>\n",
       "      <td>2.610253e-07</td>\n",
       "      <td>3.850837e-07</td>\n",
       "      <td>5.153171e-07</td>\n",
       "      <td>3.444539e-07</td>\n",
       "      <td>1.969779e-07</td>\n",
       "      <td>...</td>\n",
       "      <td>2.713154e-07</td>\n",
       "      <td>2.204941e-07</td>\n",
       "      <td>3.854310e-07</td>\n",
       "      <td>1.644210e-07</td>\n",
       "      <td>2.509224e-07</td>\n",
       "      <td>1.943184e-07</td>\n",
       "      <td>2.556744e-07</td>\n",
       "      <td>1.691993e-07</td>\n",
       "      <td>2.398032e-07</td>\n",
       "      <td>1.362089e-07</td>\n",
       "    </tr>\n",
       "    <tr>\n",
       "      <th>898</th>\n",
       "      <td>6.537824e-07</td>\n",
       "      <td>3.469033e-07</td>\n",
       "      <td>1.223116e-06</td>\n",
       "      <td>9.263332e-07</td>\n",
       "      <td>1.138290e-06</td>\n",
       "      <td>8.491681e-07</td>\n",
       "      <td>1.350406e-06</td>\n",
       "      <td>9.140412e-07</td>\n",
       "      <td>7.744658e-07</td>\n",
       "      <td>1.370563e-07</td>\n",
       "      <td>...</td>\n",
       "      <td>6.083109e-08</td>\n",
       "      <td>4.899170e-08</td>\n",
       "      <td>2.247567e-07</td>\n",
       "      <td>6.398405e-08</td>\n",
       "      <td>6.038002e-08</td>\n",
       "      <td>2.752822e-07</td>\n",
       "      <td>1.489911e-07</td>\n",
       "      <td>1.725310e-08</td>\n",
       "      <td>2.944608e-07</td>\n",
       "      <td>2.677312e-07</td>\n",
       "    </tr>\n",
       "    <tr>\n",
       "      <th>899</th>\n",
       "      <td>4.067292e-08</td>\n",
       "      <td>6.482332e-08</td>\n",
       "      <td>7.768651e-08</td>\n",
       "      <td>6.179946e-08</td>\n",
       "      <td>7.988560e-08</td>\n",
       "      <td>6.982441e-08</td>\n",
       "      <td>6.530185e-08</td>\n",
       "      <td>8.446095e-08</td>\n",
       "      <td>8.355631e-08</td>\n",
       "      <td>5.444430e-08</td>\n",
       "      <td>...</td>\n",
       "      <td>1.455255e-07</td>\n",
       "      <td>1.147617e-07</td>\n",
       "      <td>2.390012e-07</td>\n",
       "      <td>1.308490e-07</td>\n",
       "      <td>1.239052e-07</td>\n",
       "      <td>3.212112e-07</td>\n",
       "      <td>1.467899e-07</td>\n",
       "      <td>1.738089e-07</td>\n",
       "      <td>2.607297e-07</td>\n",
       "      <td>1.499947e-07</td>\n",
       "    </tr>\n",
       "  </tbody>\n",
       "</table>\n",
       "<p>900 rows × 5886 columns</p>\n",
       "</div>"
      ],
      "text/plain": [
       "             0             1             2             3             4     \\\n",
       "0    2.238875e-06  1.037237e-06  2.203183e-06  2.712548e-06  1.569723e-06   \n",
       "1    3.653466e-08  1.310547e-07  9.800927e-08  6.105414e-08  1.069834e-07   \n",
       "2    6.002224e-07  7.443720e-07  8.619202e-07  7.533689e-07  5.858706e-07   \n",
       "3    2.820408e-07  5.260800e-07  4.192725e-07  2.428252e-07  2.191517e-07   \n",
       "4    1.006129e-07  1.579804e-07  1.617790e-07  2.584490e-07  1.243629e-07   \n",
       "..            ...           ...           ...           ...           ...   \n",
       "895  1.627457e-07  4.958352e-08  2.907965e-07  1.152614e-07  1.329753e-07   \n",
       "896  1.754109e-07  4.148319e-08  1.404240e-07  2.172317e-07  6.597973e-08   \n",
       "897  1.472436e-07  1.546431e-07  1.496673e-07  1.223550e-07  1.166560e-07   \n",
       "898  6.537824e-07  3.469033e-07  1.223116e-06  9.263332e-07  1.138290e-06   \n",
       "899  4.067292e-08  6.482332e-08  7.768651e-08  6.179946e-08  7.988560e-08   \n",
       "\n",
       "             5             6             7             8             9     \\\n",
       "0    1.242984e-06  2.279165e-06  1.922800e-06  2.116325e-06  2.797039e-06   \n",
       "1    5.709834e-08  1.469337e-07  7.911495e-08  1.267696e-07  1.093936e-07   \n",
       "2    5.166179e-07  4.787922e-07  5.842786e-07  5.015228e-07  3.825638e-07   \n",
       "3    3.528003e-07  2.057803e-07  3.244559e-07  2.732166e-07  1.348755e-07   \n",
       "4    7.726150e-08  8.413748e-08  1.878644e-07  1.516573e-07  8.169071e-08   \n",
       "..            ...           ...           ...           ...           ...   \n",
       "895  9.542887e-08  1.478833e-07  2.538444e-07  1.497487e-07  1.243410e-07   \n",
       "896  8.685821e-08  8.817978e-08  1.397334e-07  6.215356e-08  1.209817e-07   \n",
       "897  2.610253e-07  3.850837e-07  5.153171e-07  3.444539e-07  1.969779e-07   \n",
       "898  8.491681e-07  1.350406e-06  9.140412e-07  7.744658e-07  1.370563e-07   \n",
       "899  6.982441e-08  6.530185e-08  8.446095e-08  8.355631e-08  5.444430e-08   \n",
       "\n",
       "     ...          5876          5877          5878          5879  \\\n",
       "0    ...  1.789646e-07  1.636445e-07  1.782794e-07  2.284478e-07   \n",
       "1    ...  1.033268e-07  2.687472e-07  8.691077e-07  9.687213e-07   \n",
       "2    ...  1.601867e-06  7.993848e-07  2.732875e-06  1.012836e-06   \n",
       "3    ...  7.851027e-07  2.561371e-07  2.257331e-07  6.149986e-07   \n",
       "4    ...  7.266732e-08  2.109666e-08  5.132869e-08  1.183902e-08   \n",
       "..   ...           ...           ...           ...           ...   \n",
       "895  ...  7.967280e-07  6.743305e-07  1.052264e-07  5.774848e-08   \n",
       "896  ...  2.535671e-07  1.118602e-07  2.368717e-07  1.401981e-07   \n",
       "897  ...  2.713154e-07  2.204941e-07  3.854310e-07  1.644210e-07   \n",
       "898  ...  6.083109e-08  4.899170e-08  2.247567e-07  6.398405e-08   \n",
       "899  ...  1.455255e-07  1.147617e-07  2.390012e-07  1.308490e-07   \n",
       "\n",
       "             5880          5881          5882          5883          5884  \\\n",
       "0    1.815005e-07  1.864456e-07  1.142014e-07  6.331630e-08  1.132182e-07   \n",
       "1    1.069851e-06  8.062119e-07  8.444222e-08  5.916943e-07  9.249194e-07   \n",
       "2    7.027735e-07  1.860945e-06  5.845715e-07  6.013610e-07  7.765065e-07   \n",
       "3    4.621291e-07  6.081410e-08  2.495417e-07  2.070650e-07  1.082681e-07   \n",
       "4    2.670680e-08  7.997687e-08  7.938014e-08  8.497867e-08  1.286427e-07   \n",
       "..            ...           ...           ...           ...           ...   \n",
       "895  4.235331e-07  6.370144e-07  2.470796e-07  1.642042e-07  4.416375e-07   \n",
       "896  1.738785e-07  1.662833e-07  2.236996e-07  5.675599e-07  3.881732e-07   \n",
       "897  2.509224e-07  1.943184e-07  2.556744e-07  1.691993e-07  2.398032e-07   \n",
       "898  6.038002e-08  2.752822e-07  1.489911e-07  1.725310e-08  2.944608e-07   \n",
       "899  1.239052e-07  3.212112e-07  1.467899e-07  1.738089e-07  2.607297e-07   \n",
       "\n",
       "             5885  \n",
       "0    8.257041e-08  \n",
       "1    6.703698e-07  \n",
       "2    9.313830e-07  \n",
       "3    1.311098e-07  \n",
       "4    2.307332e-07  \n",
       "..            ...  \n",
       "895  3.246522e-07  \n",
       "896  6.266933e-07  \n",
       "897  1.362089e-07  \n",
       "898  2.677312e-07  \n",
       "899  1.499947e-07  \n",
       "\n",
       "[900 rows x 5886 columns]"
      ]
     },
     "execution_count": 6,
     "metadata": {},
     "output_type": "execute_result"
    }
   ],
   "source": [
    "pd.DataFrame(data)"
   ]
  },
  {
   "cell_type": "code",
   "execution_count": 7,
   "metadata": {},
   "outputs": [
    {
     "data": {
      "text/plain": [
       "0      0\n",
       "1      0\n",
       "2      0\n",
       "3      0\n",
       "4      0\n",
       "      ..\n",
       "895    0\n",
       "896    0\n",
       "897    0\n",
       "898    0\n",
       "899    0\n",
       "Length: 900, dtype: int64"
      ]
     },
     "execution_count": 7,
     "metadata": {},
     "output_type": "execute_result"
    }
   ],
   "source": [
    "# Verifico que la matriz no tenga valores nulos\n",
    "pd.DataFrame(data).isna().sum(axis=1)"
   ]
  },
  {
   "cell_type": "code",
   "execution_count": 8,
   "metadata": {},
   "outputs": [
    {
     "data": {
      "text/html": [
       "<div>\n",
       "<style scoped>\n",
       "    .dataframe tbody tr th:only-of-type {\n",
       "        vertical-align: middle;\n",
       "    }\n",
       "\n",
       "    .dataframe tbody tr th {\n",
       "        vertical-align: top;\n",
       "    }\n",
       "\n",
       "    .dataframe thead th {\n",
       "        text-align: right;\n",
       "    }\n",
       "</style>\n",
       "<table border=\"1\" class=\"dataframe\">\n",
       "  <thead>\n",
       "    <tr style=\"text-align: right;\">\n",
       "      <th></th>\n",
       "      <th>0</th>\n",
       "    </tr>\n",
       "  </thead>\n",
       "  <tbody>\n",
       "    <tr>\n",
       "      <th>0</th>\n",
       "      <td>blues</td>\n",
       "    </tr>\n",
       "    <tr>\n",
       "      <th>1</th>\n",
       "      <td>blues</td>\n",
       "    </tr>\n",
       "    <tr>\n",
       "      <th>2</th>\n",
       "      <td>blues</td>\n",
       "    </tr>\n",
       "    <tr>\n",
       "      <th>3</th>\n",
       "      <td>blues</td>\n",
       "    </tr>\n",
       "    <tr>\n",
       "      <th>4</th>\n",
       "      <td>blues</td>\n",
       "    </tr>\n",
       "    <tr>\n",
       "      <th>...</th>\n",
       "      <td>...</td>\n",
       "    </tr>\n",
       "    <tr>\n",
       "      <th>895</th>\n",
       "      <td>rock</td>\n",
       "    </tr>\n",
       "    <tr>\n",
       "      <th>896</th>\n",
       "      <td>rock</td>\n",
       "    </tr>\n",
       "    <tr>\n",
       "      <th>897</th>\n",
       "      <td>rock</td>\n",
       "    </tr>\n",
       "    <tr>\n",
       "      <th>898</th>\n",
       "      <td>rock</td>\n",
       "    </tr>\n",
       "    <tr>\n",
       "      <th>899</th>\n",
       "      <td>rock</td>\n",
       "    </tr>\n",
       "  </tbody>\n",
       "</table>\n",
       "<p>900 rows × 1 columns</p>\n",
       "</div>"
      ],
      "text/plain": [
       "         0\n",
       "0    blues\n",
       "1    blues\n",
       "2    blues\n",
       "3    blues\n",
       "4    blues\n",
       "..     ...\n",
       "895   rock\n",
       "896   rock\n",
       "897   rock\n",
       "898   rock\n",
       "899   rock\n",
       "\n",
       "[900 rows x 1 columns]"
      ]
     },
     "execution_count": 8,
     "metadata": {},
     "output_type": "execute_result"
    }
   ],
   "source": [
    "pd.DataFrame(labels)"
   ]
  },
  {
   "cell_type": "markdown",
   "metadata": {},
   "source": [
    "# Separo la data de entrenamiento y la de validacion"
   ]
  },
  {
   "cell_type": "code",
   "execution_count": 9,
   "metadata": {},
   "outputs": [],
   "source": [
    "from sklearn.model_selection import train_test_split\n",
    "\n",
    "x_train, x_val, y_train, y_val = train_test_split( data, labels, test_size=0.1, random_state=42 )"
   ]
  },
  {
   "cell_type": "markdown",
   "metadata": {},
   "source": [
    "# Propongo el baseline\n",
    "\n",
    "Usaremos como baseline RandomForestClasification.\n",
    "\n",
    "Este modelo tiene como ventaja que puede clasificar directamente entre un grupo de multiples clases."
   ]
  },
  {
   "cell_type": "code",
   "execution_count": 213,
   "metadata": {},
   "outputs": [],
   "source": [
    "from sklearn.ensemble import RandomForestClassifier\n",
    "from sklearn.model_selection import GridSearchCV\n",
    "\n",
    "forest_clf = RandomForestClassifier(random_state=42,  n_jobs=-1, verbose=0, n_estimators=1024, criterion=\"entropy\", \n",
    "                                    max_depth=32, min_samples_leaf=0.01, max_features = 0.2)"
   ]
  },
  {
   "cell_type": "code",
   "execution_count": 214,
   "metadata": {},
   "outputs": [
    {
     "data": {
      "text/plain": [
       "RandomForestClassifier(criterion='entropy', max_depth=32, max_features=0.2,\n",
       "                       min_samples_leaf=0.01, n_estimators=1024, n_jobs=-1,\n",
       "                       random_state=42)"
      ]
     },
     "execution_count": 214,
     "metadata": {},
     "output_type": "execute_result"
    }
   ],
   "source": [
    "forest_clf.fit(x_train, y_train)"
   ]
  },
  {
   "cell_type": "code",
   "execution_count": 215,
   "metadata": {},
   "outputs": [
    {
     "data": {
      "text/plain": [
       "\"\\nhiper_parametros = dict(n_estimators=[1024],\\n                        max_depth=[16],\\n                        min_samples_leaf=[0.01],\\n                        max_features=[0.2],\\n                        bootstrap=[True,False]\\n                       )\\n\\ngridSearch = GridSearchCV(forest_clf, hiper_parametros, cv=3, n_jobs=-1, scoring='accuracy')\\nsearch = gridSearch.fit(x_train, y_train)\\nbest_forest_clf = search.best_estimator_\\nbest_forest_clf.fit(x_train, y_train)\\n\""
      ]
     },
     "execution_count": 215,
     "metadata": {},
     "output_type": "execute_result"
    }
   ],
   "source": [
    "'''\n",
    "hiper_parametros = dict(n_estimators=[1024],\n",
    "                        max_depth=[16],\n",
    "                        min_samples_leaf=[0.01],\n",
    "                        max_features=[0.2],\n",
    "                        bootstrap=[True,False]\n",
    "                       )\n",
    "\n",
    "gridSearch = GridSearchCV(forest_clf, hiper_parametros, cv=3, n_jobs=-1, scoring='accuracy')\n",
    "search = gridSearch.fit(x_train, y_train)\n",
    "best_forest_clf = search.best_estimator_\n",
    "best_forest_clf.fit(x_train, y_train)\n",
    "'''"
   ]
  },
  {
   "cell_type": "markdown",
   "metadata": {},
   "source": [
    "# Metricas"
   ]
  },
  {
   "cell_type": "code",
   "execution_count": 216,
   "metadata": {},
   "outputs": [
    {
     "name": "stdout",
     "output_type": "stream",
     "text": [
      "Exactitud en set de entrenamiento:  90.49382716049382\n",
      "Exactitud en set de validación:  25.555555555555554\n",
      "Exactitud en set de prueba:  27.0\n"
     ]
    }
   ],
   "source": [
    "from sklearn.metrics import roc_auc_score, accuracy_score\n",
    "\n",
    "print(\"Exactitud en set de entrenamiento: \", accuracy_score(forest_clf.predict(x_train), y_train)*100)\n",
    "print(\"Exactitud en set de validación: \", accuracy_score(forest_clf.predict(x_val), y_val)*100)\n",
    "print(\"Exactitud en set de prueba: \", accuracy_score(forest_clf.predict(data_test), labels_test)*100)"
   ]
  },
  {
   "cell_type": "code",
   "execution_count": 218,
   "metadata": {},
   "outputs": [
    {
     "data": {
      "text/plain": [
       "'\\nfrom sklearn.metrics import roc_auc_score, accuracy_score\\n\\nprint(\"Exactitud en set de entrenamiento: \", accuracy_score(best_forest_clf.predict(x_train), y_train)*100)\\nprint(\"Exactitud en set de validación: \", accuracy_score(best_forest_clf.predict(x_val), y_val)*100)\\nprint(\"Exactitud en set de prueba: \", accuracy_score(best_forest_clf.predict(data_test), labels_test)*100)\\n'"
      ]
     },
     "execution_count": 218,
     "metadata": {},
     "output_type": "execute_result"
    }
   ],
   "source": [
    "'''\n",
    "from sklearn.metrics import roc_auc_score, accuracy_score\n",
    "\n",
    "print(\"Exactitud en set de entrenamiento: \", accuracy_score(best_forest_clf.predict(x_train), y_train)*100)\n",
    "print(\"Exactitud en set de validación: \", accuracy_score(best_forest_clf.predict(x_val), y_val)*100)\n",
    "print(\"Exactitud en set de prueba: \", accuracy_score(best_forest_clf.predict(data_test), labels_test)*100)\n",
    "'''"
   ]
  },
  {
   "cell_type": "code",
   "execution_count": 219,
   "metadata": {},
   "outputs": [
    {
     "name": "stderr",
     "output_type": "stream",
     "text": [
      "/home/paredesj/anaconda3/lib/python3.7/site-packages/sklearn/utils/deprecation.py:87: FutureWarning: Function plot_confusion_matrix is deprecated; Function `plot_confusion_matrix` is deprecated in 1.0 and will be removed in 1.2. Use one of the class methods: ConfusionMatrixDisplay.from_predictions or ConfusionMatrixDisplay.from_estimator.\n",
      "  warnings.warn(msg, category=FutureWarning)\n"
     ]
    },
    {
     "data": {
      "text/plain": [
       "<sklearn.metrics._plot.confusion_matrix.ConfusionMatrixDisplay at 0x7f7cf0d46a10>"
      ]
     },
     "execution_count": 219,
     "metadata": {},
     "output_type": "execute_result"
    },
    {
     "data": {
      "image/png": "[encoded data removed]",
      "text/plain": [
       "<Figure size 1440x1440 with 2 Axes>"
      ]
     },
     "metadata": {
      "needs_background": "light"
     },
     "output_type": "display_data"
    }
   ],
   "source": [
    "from sklearn.metrics import ConfusionMatrixDisplay, confusion_matrix, plot_confusion_matrix\n",
    "\n",
    "fig, ax = plt.subplots(figsize=(20, 20))\n",
    "\n",
    "plot_confusion_matrix(forest_clf, x_train, y_train, ax=ax)"
   ]
  },
  {
   "cell_type": "code",
   "execution_count": 220,
   "metadata": {},
   "outputs": [
    {
     "name": "stderr",
     "output_type": "stream",
     "text": [
      "/home/paredesj/anaconda3/lib/python3.7/site-packages/sklearn/utils/deprecation.py:87: FutureWarning: Function plot_confusion_matrix is deprecated; Function `plot_confusion_matrix` is deprecated in 1.0 and will be removed in 1.2. Use one of the class methods: ConfusionMatrixDisplay.from_predictions or ConfusionMatrixDisplay.from_estimator.\n",
      "  warnings.warn(msg, category=FutureWarning)\n"
     ]
    },
    {
     "data": {
      "text/plain": [
       "<sklearn.metrics._plot.confusion_matrix.ConfusionMatrixDisplay at 0x7f7cf1203750>"
      ]
     },
     "execution_count": 220,
     "metadata": {},
     "output_type": "execute_result"
    },
    {
     "data": {
      "image/png": "[encoded data removed]",
      "text/plain": [
       "<Figure size 1440x1440 with 2 Axes>"
      ]
     },
     "metadata": {
      "needs_background": "light"
     },
     "output_type": "display_data"
    }
   ],
   "source": [
    "fig, ax = plt.subplots(figsize=(20, 20))\n",
    "\n",
    "plot_confusion_matrix(forest_clf, x_val, y_val, ax=ax)"
   ]
  },
  {
   "cell_type": "code",
   "execution_count": 221,
   "metadata": {},
   "outputs": [
    {
     "name": "stderr",
     "output_type": "stream",
     "text": [
      "/home/paredesj/anaconda3/lib/python3.7/site-packages/sklearn/utils/deprecation.py:87: FutureWarning: Function plot_confusion_matrix is deprecated; Function `plot_confusion_matrix` is deprecated in 1.0 and will be removed in 1.2. Use one of the class methods: ConfusionMatrixDisplay.from_predictions or ConfusionMatrixDisplay.from_estimator.\n",
      "  warnings.warn(msg, category=FutureWarning)\n"
     ]
    },
    {
     "data": {
      "text/plain": [
       "<sklearn.metrics._plot.confusion_matrix.ConfusionMatrixDisplay at 0x7f7cf0a8cbd0>"
      ]
     },
     "execution_count": 221,
     "metadata": {},
     "output_type": "execute_result"
    },
    {
     "data": {
      "image/png": "[encoded data removed]",
      "text/plain": [
       "<Figure size 1440x1440 with 2 Axes>"
      ]
     },
     "metadata": {
      "needs_background": "light"
     },
     "output_type": "display_data"
    }
   ],
   "source": [
    "fig, ax = plt.subplots(figsize=(20, 20))\n",
    "\n",
    "plot_confusion_matrix(forest_clf, data_test, labels_test, ax=ax)"
   ]
  }
 ],
 "metadata": {
  "hide_input": false,
  "kernelspec": {
   "display_name": "Python 3",
   "language": "python",
   "name": "python3"
  },
  "language_info": {
   "codemirror_mode": {
    "name": "ipython",
    "version": 3
   },
   "file_extension": ".py",
   "mimetype": "text/x-python",
   "name": "python",
   "nbconvert_exporter": "python",
   "pygments_lexer": "ipython3",
   "version": "3.7.4"
  },
  "toc": {
   "base_numbering": 1,
   "nav_menu": {},
   "number_sections": true,
   "sideBar": true,
   "skip_h1_title": false,
   "title_cell": "Table of Contents",
   "title_sidebar": "Contents",
   "toc_cell": false,
   "toc_position": {
    "height": "calc(100% - 180px)",
    "left": "10px",
    "top": "150px",
    "width": "384px"
   },
   "toc_section_display": true,
   "toc_window_display": false
  }
 },
 "nbformat": 4,
 "nbformat_minor": 5
}
