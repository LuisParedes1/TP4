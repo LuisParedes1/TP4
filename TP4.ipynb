{
 "cells": [
  {
   "cell_type": "markdown",
   "metadata": {},
   "source": [
    "# GTZAN Genre Collection: Construir un clasificado\n",
    "\n",
    "\n",
    "El [dataset](http://marsyas.info/downloads/datasets.html) consta de 1000 audios de 30 segundos en formato .wav de 10 géneros musicales distintos.\n",
    "\n",
    "# Tarea: Construir un clasificador\n",
    "\n",
    "¿Qué tan bien funciona en validación (10% random de cada género)? \n",
    "¿Qué features usar?"
   ]
  },
  {
   "cell_type": "code",
   "execution_count": 1,
   "metadata": {},
   "outputs": [],
   "source": [
    "import pandas as pd\n",
    "import numpy as np\n",
    "import matplotlib as mpl\n",
    "import matplotlib.pyplot as plt\n",
    "from scipy import signal\n",
    "import librosa\n",
    "from tqdm import tqdm\n",
    "\n",
    "from sklearn.preprocessing import StandardScaler\n",
    "from sklearn.metrics import precision_score, recall_score, roc_curve"
   ]
  },
  {
   "cell_type": "markdown",
   "metadata": {},
   "source": [
    "# Analiso la data\n",
    "\n",
    "Cargo los espectogramas correspondientes a cada cancion como data_set y tomo como label la carpeta a la que pertenece dicha cancion."
   ]
  },
  {
   "cell_type": "markdown",
   "metadata": {},
   "source": [
    "Analizando la data observamos que no todas las canciones duran exactamente 30 segundos, eso trae como consecuencia que las señales recibidas (sig) sea ligeramente distinto haciendo que los tiempos cambien para cada cancion.\n",
    "\n",
    "Para solucionar este problema, truncamos las señales para que considere las correspondiente a 29.9 segundos"
   ]
  },
  {
   "cell_type": "code",
   "execution_count": 2,
   "metadata": {},
   "outputs": [],
   "source": [
    "from glob import glob\n",
    "\n",
    "base = \"genres/\"\n",
    "genres = ['blues', 'classical', 'country', 'disco', 'hiphop', 'jazz', 'metal', 'pop', 'reggae', 'rock']"
   ]
  },
  {
   "cell_type": "code",
   "execution_count": 30,
   "metadata": {},
   "outputs": [
    {
     "data": {
      "text/plain": [
       "129"
      ]
     },
     "execution_count": 30,
     "metadata": {},
     "output_type": "execute_result"
    }
   ],
   "source": [
    "len(spectrogram.T.mean(axis=0))"
   ]
  },
  {
   "cell_type": "code",
   "execution_count": 3,
   "metadata": {},
   "outputs": [
    {
     "name": "stderr",
     "output_type": "stream",
     "text": [
      "\r",
      "  0%|          | 0/9 [00:00<?, ?it/s]"
     ]
    },
    {
     "name": "stdout",
     "output_type": "stream",
     "text": [
      "blues\n"
     ]
    },
    {
     "name": "stderr",
     "output_type": "stream",
     "text": [
      "\r",
      " 11%|█         | 1/9 [01:39<13:19, 99.90s/it]"
     ]
    },
    {
     "name": "stdout",
     "output_type": "stream",
     "text": [
      "country\n"
     ]
    },
    {
     "name": "stderr",
     "output_type": "stream",
     "text": [
      "\r",
      " 22%|██▏       | 2/9 [03:28<11:56, 102.36s/it]"
     ]
    },
    {
     "name": "stdout",
     "output_type": "stream",
     "text": [
      "disco\n"
     ]
    },
    {
     "name": "stderr",
     "output_type": "stream",
     "text": [
      "\r",
      " 33%|███▎      | 3/9 [05:24<10:40, 106.73s/it]"
     ]
    },
    {
     "name": "stdout",
     "output_type": "stream",
     "text": [
      "hiphop\n"
     ]
    },
    {
     "name": "stderr",
     "output_type": "stream",
     "text": [
      "\r",
      " 44%|████▍     | 4/9 [07:30<09:22, 112.42s/it]"
     ]
    },
    {
     "name": "stdout",
     "output_type": "stream",
     "text": [
      "jazz\n"
     ]
    },
    {
     "name": "stderr",
     "output_type": "stream",
     "text": [
      "\r",
      " 56%|█████▌    | 5/9 [09:44<07:54, 118.74s/it]"
     ]
    },
    {
     "name": "stdout",
     "output_type": "stream",
     "text": [
      "metal\n"
     ]
    },
    {
     "name": "stderr",
     "output_type": "stream",
     "text": [
      "\r",
      " 67%|██████▋   | 6/9 [12:08<06:19, 126.58s/it]"
     ]
    },
    {
     "name": "stdout",
     "output_type": "stream",
     "text": [
      "pop\n"
     ]
    },
    {
     "name": "stderr",
     "output_type": "stream",
     "text": [
      "\r",
      " 78%|███████▊  | 7/9 [14:42<04:29, 134.62s/it]"
     ]
    },
    {
     "name": "stdout",
     "output_type": "stream",
     "text": [
      "reggae\n"
     ]
    },
    {
     "name": "stderr",
     "output_type": "stream",
     "text": [
      "\r",
      " 89%|████████▉ | 8/9 [17:23<02:22, 142.68s/it]"
     ]
    },
    {
     "name": "stdout",
     "output_type": "stream",
     "text": [
      "rock\n"
     ]
    },
    {
     "name": "stderr",
     "output_type": "stream",
     "text": [
      "100%|██████████| 9/9 [20:15<00:00, 135.02s/it]\n"
     ]
    }
   ],
   "source": [
    "data = np.empty((0,129), float)\n",
    "data_test = np.empty((0,129), float)\n",
    "\n",
    "labels = []\n",
    "labels_test = []\n",
    "\n",
    "max_len_of_songs= int(29.9*22050*2)\n",
    "\n",
    "for genre in tqdm(genres):\n",
    "    \n",
    "    path = base+genre\n",
    "    songs = sorted(glob(path+\"/*.wav\"))\n",
    "    for k, song in enumerate(songs):\n",
    "        \n",
    "        sig, rate = librosa.load(song,sr=22050*2)\n",
    "        frequencies, times, spectrogram = signal.spectrogram(sig[:max_len_of_songs],rate)\n",
    "        \n",
    "        if k >= 10:\n",
    "            data = np.concatenate((data, spectrogram.T), axis=0)\n",
    "            labels.extend([genre]*spectrogram.T.shape[0])\n",
    "        else:\n",
    "            data_test = np.concatenate((data_test, spectrogram.T), axis=0)\n",
    "            labels_test.extend([genre]*spectrogram.T.shape[0])"
   ]
  },
  {
   "cell_type": "code",
   "execution_count": null,
   "metadata": {},
   "outputs": [],
   "source": [
    "spectrogram.shape"
   ]
  },
  {
   "cell_type": "code",
   "execution_count": 5,
   "metadata": {},
   "outputs": [
    {
     "data": {
      "text/plain": [
       "4767660"
      ]
     },
     "execution_count": 5,
     "metadata": {},
     "output_type": "execute_result"
    }
   ],
   "source": [
    "len(data)"
   ]
  },
  {
   "cell_type": "code",
   "execution_count": 6,
   "metadata": {},
   "outputs": [
    {
     "data": {
      "text/plain": [
       "4767660"
      ]
     },
     "execution_count": 6,
     "metadata": {},
     "output_type": "execute_result"
    }
   ],
   "source": [
    "len(labels)"
   ]
  },
  {
   "cell_type": "code",
   "execution_count": 7,
   "metadata": {},
   "outputs": [
    {
     "data": {
      "text/html": [
       "<div>\n",
       "<style scoped>\n",
       "    .dataframe tbody tr th:only-of-type {\n",
       "        vertical-align: middle;\n",
       "    }\n",
       "\n",
       "    .dataframe tbody tr th {\n",
       "        vertical-align: top;\n",
       "    }\n",
       "\n",
       "    .dataframe thead th {\n",
       "        text-align: right;\n",
       "    }\n",
       "</style>\n",
       "<table border=\"1\" class=\"dataframe\">\n",
       "  <thead>\n",
       "    <tr style=\"text-align: right;\">\n",
       "      <th></th>\n",
       "      <th>0</th>\n",
       "      <th>1</th>\n",
       "      <th>2</th>\n",
       "      <th>3</th>\n",
       "      <th>4</th>\n",
       "      <th>5</th>\n",
       "      <th>6</th>\n",
       "      <th>7</th>\n",
       "      <th>8</th>\n",
       "      <th>9</th>\n",
       "      <th>...</th>\n",
       "      <th>119</th>\n",
       "      <th>120</th>\n",
       "      <th>121</th>\n",
       "      <th>122</th>\n",
       "      <th>123</th>\n",
       "      <th>124</th>\n",
       "      <th>125</th>\n",
       "      <th>126</th>\n",
       "      <th>127</th>\n",
       "      <th>128</th>\n",
       "    </tr>\n",
       "  </thead>\n",
       "  <tbody>\n",
       "    <tr>\n",
       "      <th>0</th>\n",
       "      <td>7.648128e-09</td>\n",
       "      <td>0.000011</td>\n",
       "      <td>7.110335e-06</td>\n",
       "      <td>5.168256e-05</td>\n",
       "      <td>1.033824e-04</td>\n",
       "      <td>7.953688e-05</td>\n",
       "      <td>7.899648e-06</td>\n",
       "      <td>0.000018</td>\n",
       "      <td>1.508806e-07</td>\n",
       "      <td>1.032856e-06</td>\n",
       "      <td>...</td>\n",
       "      <td>1.486727e-16</td>\n",
       "      <td>2.409925e-16</td>\n",
       "      <td>3.042438e-16</td>\n",
       "      <td>2.883257e-16</td>\n",
       "      <td>2.074110e-16</td>\n",
       "      <td>1.444717e-16</td>\n",
       "      <td>1.147658e-16</td>\n",
       "      <td>1.315939e-16</td>\n",
       "      <td>1.887411e-16</td>\n",
       "      <td>1.106783e-16</td>\n",
       "    </tr>\n",
       "    <tr>\n",
       "      <th>1</th>\n",
       "      <td>6.779422e-07</td>\n",
       "      <td>0.000007</td>\n",
       "      <td>1.131812e-05</td>\n",
       "      <td>9.593336e-06</td>\n",
       "      <td>1.620067e-05</td>\n",
       "      <td>2.258443e-05</td>\n",
       "      <td>2.101893e-05</td>\n",
       "      <td>0.000036</td>\n",
       "      <td>1.961122e-06</td>\n",
       "      <td>3.261830e-06</td>\n",
       "      <td>...</td>\n",
       "      <td>7.390746e-17</td>\n",
       "      <td>4.618964e-17</td>\n",
       "      <td>5.232249e-17</td>\n",
       "      <td>7.337561e-17</td>\n",
       "      <td>7.992786e-17</td>\n",
       "      <td>5.935213e-17</td>\n",
       "      <td>4.821689e-17</td>\n",
       "      <td>6.619380e-17</td>\n",
       "      <td>5.433818e-17</td>\n",
       "      <td>2.077265e-17</td>\n",
       "    </tr>\n",
       "    <tr>\n",
       "      <th>2</th>\n",
       "      <td>6.092649e-07</td>\n",
       "      <td>0.000002</td>\n",
       "      <td>2.386464e-05</td>\n",
       "      <td>8.191499e-05</td>\n",
       "      <td>1.039179e-04</td>\n",
       "      <td>6.697764e-06</td>\n",
       "      <td>3.674650e-05</td>\n",
       "      <td>0.000012</td>\n",
       "      <td>5.760608e-06</td>\n",
       "      <td>4.978268e-07</td>\n",
       "      <td>...</td>\n",
       "      <td>1.501743e-16</td>\n",
       "      <td>1.566527e-17</td>\n",
       "      <td>1.570348e-16</td>\n",
       "      <td>1.057907e-16</td>\n",
       "      <td>2.870337e-17</td>\n",
       "      <td>8.440343e-17</td>\n",
       "      <td>1.562036e-16</td>\n",
       "      <td>9.452719e-17</td>\n",
       "      <td>2.056155e-17</td>\n",
       "      <td>1.433677e-18</td>\n",
       "    </tr>\n",
       "    <tr>\n",
       "      <th>3</th>\n",
       "      <td>6.607849e-06</td>\n",
       "      <td>0.000005</td>\n",
       "      <td>3.207247e-05</td>\n",
       "      <td>1.126581e-04</td>\n",
       "      <td>1.260171e-04</td>\n",
       "      <td>1.286750e-05</td>\n",
       "      <td>3.631045e-05</td>\n",
       "      <td>0.000012</td>\n",
       "      <td>6.068375e-07</td>\n",
       "      <td>5.667600e-07</td>\n",
       "      <td>...</td>\n",
       "      <td>5.023687e-16</td>\n",
       "      <td>2.529030e-16</td>\n",
       "      <td>1.873775e-16</td>\n",
       "      <td>1.161979e-16</td>\n",
       "      <td>3.809910e-17</td>\n",
       "      <td>3.685489e-17</td>\n",
       "      <td>8.497630e-17</td>\n",
       "      <td>1.056475e-16</td>\n",
       "      <td>7.459296e-17</td>\n",
       "      <td>2.148277e-17</td>\n",
       "    </tr>\n",
       "    <tr>\n",
       "      <th>4</th>\n",
       "      <td>4.139110e-08</td>\n",
       "      <td>0.000018</td>\n",
       "      <td>8.410859e-06</td>\n",
       "      <td>9.372347e-05</td>\n",
       "      <td>2.437182e-05</td>\n",
       "      <td>3.826040e-06</td>\n",
       "      <td>3.603576e-05</td>\n",
       "      <td>0.000010</td>\n",
       "      <td>9.232585e-07</td>\n",
       "      <td>8.823179e-07</td>\n",
       "      <td>...</td>\n",
       "      <td>2.431432e-16</td>\n",
       "      <td>1.348866e-16</td>\n",
       "      <td>5.883893e-17</td>\n",
       "      <td>3.753518e-17</td>\n",
       "      <td>7.374633e-17</td>\n",
       "      <td>1.006140e-16</td>\n",
       "      <td>6.053369e-17</td>\n",
       "      <td>3.757397e-17</td>\n",
       "      <td>1.742492e-17</td>\n",
       "      <td>1.129188e-17</td>\n",
       "    </tr>\n",
       "    <tr>\n",
       "      <th>...</th>\n",
       "      <td>...</td>\n",
       "      <td>...</td>\n",
       "      <td>...</td>\n",
       "      <td>...</td>\n",
       "      <td>...</td>\n",
       "      <td>...</td>\n",
       "      <td>...</td>\n",
       "      <td>...</td>\n",
       "      <td>...</td>\n",
       "      <td>...</td>\n",
       "      <td>...</td>\n",
       "      <td>...</td>\n",
       "      <td>...</td>\n",
       "      <td>...</td>\n",
       "      <td>...</td>\n",
       "      <td>...</td>\n",
       "      <td>...</td>\n",
       "      <td>...</td>\n",
       "      <td>...</td>\n",
       "      <td>...</td>\n",
       "      <td>...</td>\n",
       "    </tr>\n",
       "    <tr>\n",
       "      <th>4767655</th>\n",
       "      <td>2.150557e-07</td>\n",
       "      <td>0.000025</td>\n",
       "      <td>9.224825e-07</td>\n",
       "      <td>9.016479e-07</td>\n",
       "      <td>9.774294e-07</td>\n",
       "      <td>1.981782e-07</td>\n",
       "      <td>8.145278e-07</td>\n",
       "      <td>0.000002</td>\n",
       "      <td>3.009727e-07</td>\n",
       "      <td>5.248008e-07</td>\n",
       "      <td>...</td>\n",
       "      <td>9.288774e-17</td>\n",
       "      <td>3.525058e-17</td>\n",
       "      <td>4.403969e-18</td>\n",
       "      <td>1.433677e-17</td>\n",
       "      <td>1.830306e-17</td>\n",
       "      <td>3.583446e-18</td>\n",
       "      <td>2.831549e-18</td>\n",
       "      <td>1.546853e-17</td>\n",
       "      <td>1.494246e-17</td>\n",
       "      <td>4.270074e-18</td>\n",
       "    </tr>\n",
       "    <tr>\n",
       "      <th>4767656</th>\n",
       "      <td>9.883045e-09</td>\n",
       "      <td>0.000005</td>\n",
       "      <td>1.443635e-06</td>\n",
       "      <td>1.106915e-06</td>\n",
       "      <td>2.073079e-06</td>\n",
       "      <td>1.256665e-07</td>\n",
       "      <td>4.955935e-07</td>\n",
       "      <td>0.000001</td>\n",
       "      <td>5.089905e-07</td>\n",
       "      <td>8.667242e-08</td>\n",
       "      <td>...</td>\n",
       "      <td>2.842575e-17</td>\n",
       "      <td>1.778296e-17</td>\n",
       "      <td>3.097286e-18</td>\n",
       "      <td>1.118298e-17</td>\n",
       "      <td>1.913999e-17</td>\n",
       "      <td>8.943883e-18</td>\n",
       "      <td>5.376661e-18</td>\n",
       "      <td>8.960853e-18</td>\n",
       "      <td>6.492572e-18</td>\n",
       "      <td>6.269539e-19</td>\n",
       "    </tr>\n",
       "    <tr>\n",
       "      <th>4767657</th>\n",
       "      <td>4.105276e-07</td>\n",
       "      <td>0.000006</td>\n",
       "      <td>3.394618e-07</td>\n",
       "      <td>3.010281e-06</td>\n",
       "      <td>1.872148e-06</td>\n",
       "      <td>2.361454e-07</td>\n",
       "      <td>3.693488e-07</td>\n",
       "      <td>0.000002</td>\n",
       "      <td>5.174419e-07</td>\n",
       "      <td>4.809487e-07</td>\n",
       "      <td>...</td>\n",
       "      <td>1.251614e-17</td>\n",
       "      <td>2.284223e-18</td>\n",
       "      <td>1.298384e-17</td>\n",
       "      <td>3.254790e-17</td>\n",
       "      <td>3.254213e-17</td>\n",
       "      <td>2.353557e-17</td>\n",
       "      <td>2.300149e-17</td>\n",
       "      <td>1.947193e-17</td>\n",
       "      <td>8.727377e-18</td>\n",
       "      <td>6.896119e-19</td>\n",
       "    </tr>\n",
       "    <tr>\n",
       "      <th>4767658</th>\n",
       "      <td>2.104916e-08</td>\n",
       "      <td>0.000014</td>\n",
       "      <td>1.311094e-06</td>\n",
       "      <td>3.133642e-06</td>\n",
       "      <td>2.272477e-06</td>\n",
       "      <td>1.568947e-07</td>\n",
       "      <td>6.212122e-07</td>\n",
       "      <td>0.000002</td>\n",
       "      <td>2.408564e-07</td>\n",
       "      <td>7.260729e-07</td>\n",
       "      <td>...</td>\n",
       "      <td>1.267381e-18</td>\n",
       "      <td>2.786364e-17</td>\n",
       "      <td>6.129770e-17</td>\n",
       "      <td>5.101044e-17</td>\n",
       "      <td>2.503433e-17</td>\n",
       "      <td>1.891976e-17</td>\n",
       "      <td>2.854403e-17</td>\n",
       "      <td>2.697282e-17</td>\n",
       "      <td>9.404681e-18</td>\n",
       "      <td>8.503831e-19</td>\n",
       "    </tr>\n",
       "    <tr>\n",
       "      <th>4767659</th>\n",
       "      <td>1.921971e-07</td>\n",
       "      <td>0.000003</td>\n",
       "      <td>2.699474e-06</td>\n",
       "      <td>1.961925e-06</td>\n",
       "      <td>1.605776e-06</td>\n",
       "      <td>2.229562e-07</td>\n",
       "      <td>2.560448e-07</td>\n",
       "      <td>0.000002</td>\n",
       "      <td>1.006953e-06</td>\n",
       "      <td>4.926634e-07</td>\n",
       "      <td>...</td>\n",
       "      <td>3.142229e-17</td>\n",
       "      <td>3.523249e-17</td>\n",
       "      <td>1.806940e-17</td>\n",
       "      <td>3.417290e-18</td>\n",
       "      <td>3.393234e-18</td>\n",
       "      <td>1.038632e-17</td>\n",
       "      <td>8.710221e-18</td>\n",
       "      <td>2.154723e-18</td>\n",
       "      <td>1.366543e-18</td>\n",
       "      <td>1.211763e-18</td>\n",
       "    </tr>\n",
       "  </tbody>\n",
       "</table>\n",
       "<p>4767660 rows × 129 columns</p>\n",
       "</div>"
      ],
      "text/plain": [
       "                  0         1             2             3             4    \\\n",
       "0        7.648128e-09  0.000011  7.110335e-06  5.168256e-05  1.033824e-04   \n",
       "1        6.779422e-07  0.000007  1.131812e-05  9.593336e-06  1.620067e-05   \n",
       "2        6.092649e-07  0.000002  2.386464e-05  8.191499e-05  1.039179e-04   \n",
       "3        6.607849e-06  0.000005  3.207247e-05  1.126581e-04  1.260171e-04   \n",
       "4        4.139110e-08  0.000018  8.410859e-06  9.372347e-05  2.437182e-05   \n",
       "...               ...       ...           ...           ...           ...   \n",
       "4767655  2.150557e-07  0.000025  9.224825e-07  9.016479e-07  9.774294e-07   \n",
       "4767656  9.883045e-09  0.000005  1.443635e-06  1.106915e-06  2.073079e-06   \n",
       "4767657  4.105276e-07  0.000006  3.394618e-07  3.010281e-06  1.872148e-06   \n",
       "4767658  2.104916e-08  0.000014  1.311094e-06  3.133642e-06  2.272477e-06   \n",
       "4767659  1.921971e-07  0.000003  2.699474e-06  1.961925e-06  1.605776e-06   \n",
       "\n",
       "                  5             6         7             8             9    \\\n",
       "0        7.953688e-05  7.899648e-06  0.000018  1.508806e-07  1.032856e-06   \n",
       "1        2.258443e-05  2.101893e-05  0.000036  1.961122e-06  3.261830e-06   \n",
       "2        6.697764e-06  3.674650e-05  0.000012  5.760608e-06  4.978268e-07   \n",
       "3        1.286750e-05  3.631045e-05  0.000012  6.068375e-07  5.667600e-07   \n",
       "4        3.826040e-06  3.603576e-05  0.000010  9.232585e-07  8.823179e-07   \n",
       "...               ...           ...       ...           ...           ...   \n",
       "4767655  1.981782e-07  8.145278e-07  0.000002  3.009727e-07  5.248008e-07   \n",
       "4767656  1.256665e-07  4.955935e-07  0.000001  5.089905e-07  8.667242e-08   \n",
       "4767657  2.361454e-07  3.693488e-07  0.000002  5.174419e-07  4.809487e-07   \n",
       "4767658  1.568947e-07  6.212122e-07  0.000002  2.408564e-07  7.260729e-07   \n",
       "4767659  2.229562e-07  2.560448e-07  0.000002  1.006953e-06  4.926634e-07   \n",
       "\n",
       "         ...           119           120           121           122  \\\n",
       "0        ...  1.486727e-16  2.409925e-16  3.042438e-16  2.883257e-16   \n",
       "1        ...  7.390746e-17  4.618964e-17  5.232249e-17  7.337561e-17   \n",
       "2        ...  1.501743e-16  1.566527e-17  1.570348e-16  1.057907e-16   \n",
       "3        ...  5.023687e-16  2.529030e-16  1.873775e-16  1.161979e-16   \n",
       "4        ...  2.431432e-16  1.348866e-16  5.883893e-17  3.753518e-17   \n",
       "...      ...           ...           ...           ...           ...   \n",
       "4767655  ...  9.288774e-17  3.525058e-17  4.403969e-18  1.433677e-17   \n",
       "4767656  ...  2.842575e-17  1.778296e-17  3.097286e-18  1.118298e-17   \n",
       "4767657  ...  1.251614e-17  2.284223e-18  1.298384e-17  3.254790e-17   \n",
       "4767658  ...  1.267381e-18  2.786364e-17  6.129770e-17  5.101044e-17   \n",
       "4767659  ...  3.142229e-17  3.523249e-17  1.806940e-17  3.417290e-18   \n",
       "\n",
       "                  123           124           125           126           127  \\\n",
       "0        2.074110e-16  1.444717e-16  1.147658e-16  1.315939e-16  1.887411e-16   \n",
       "1        7.992786e-17  5.935213e-17  4.821689e-17  6.619380e-17  5.433818e-17   \n",
       "2        2.870337e-17  8.440343e-17  1.562036e-16  9.452719e-17  2.056155e-17   \n",
       "3        3.809910e-17  3.685489e-17  8.497630e-17  1.056475e-16  7.459296e-17   \n",
       "4        7.374633e-17  1.006140e-16  6.053369e-17  3.757397e-17  1.742492e-17   \n",
       "...               ...           ...           ...           ...           ...   \n",
       "4767655  1.830306e-17  3.583446e-18  2.831549e-18  1.546853e-17  1.494246e-17   \n",
       "4767656  1.913999e-17  8.943883e-18  5.376661e-18  8.960853e-18  6.492572e-18   \n",
       "4767657  3.254213e-17  2.353557e-17  2.300149e-17  1.947193e-17  8.727377e-18   \n",
       "4767658  2.503433e-17  1.891976e-17  2.854403e-17  2.697282e-17  9.404681e-18   \n",
       "4767659  3.393234e-18  1.038632e-17  8.710221e-18  2.154723e-18  1.366543e-18   \n",
       "\n",
       "                  128  \n",
       "0        1.106783e-16  \n",
       "1        2.077265e-17  \n",
       "2        1.433677e-18  \n",
       "3        2.148277e-17  \n",
       "4        1.129188e-17  \n",
       "...               ...  \n",
       "4767655  4.270074e-18  \n",
       "4767656  6.269539e-19  \n",
       "4767657  6.896119e-19  \n",
       "4767658  8.503831e-19  \n",
       "4767659  1.211763e-18  \n",
       "\n",
       "[4767660 rows x 129 columns]"
      ]
     },
     "execution_count": 7,
     "metadata": {},
     "output_type": "execute_result"
    }
   ],
   "source": [
    "pd.DataFrame(data)"
   ]
  },
  {
   "cell_type": "code",
   "execution_count": 8,
   "metadata": {},
   "outputs": [
    {
     "data": {
      "text/plain": [
       "0          0\n",
       "1          0\n",
       "2          0\n",
       "3          0\n",
       "4          0\n",
       "          ..\n",
       "4767655    0\n",
       "4767656    0\n",
       "4767657    0\n",
       "4767658    0\n",
       "4767659    0\n",
       "Length: 4767660, dtype: int64"
      ]
     },
     "execution_count": 8,
     "metadata": {},
     "output_type": "execute_result"
    }
   ],
   "source": [
    "# Verifico que la matriz no tenga valores nulos\n",
    "pd.DataFrame(data).isna().sum(axis=1)"
   ]
  },
  {
   "cell_type": "code",
   "execution_count": 9,
   "metadata": {},
   "outputs": [
    {
     "data": {
      "text/html": [
       "<div>\n",
       "<style scoped>\n",
       "    .dataframe tbody tr th:only-of-type {\n",
       "        vertical-align: middle;\n",
       "    }\n",
       "\n",
       "    .dataframe tbody tr th {\n",
       "        vertical-align: top;\n",
       "    }\n",
       "\n",
       "    .dataframe thead th {\n",
       "        text-align: right;\n",
       "    }\n",
       "</style>\n",
       "<table border=\"1\" class=\"dataframe\">\n",
       "  <thead>\n",
       "    <tr style=\"text-align: right;\">\n",
       "      <th></th>\n",
       "      <th>0</th>\n",
       "    </tr>\n",
       "  </thead>\n",
       "  <tbody>\n",
       "    <tr>\n",
       "      <th>0</th>\n",
       "      <td>blues</td>\n",
       "    </tr>\n",
       "    <tr>\n",
       "      <th>1</th>\n",
       "      <td>blues</td>\n",
       "    </tr>\n",
       "    <tr>\n",
       "      <th>2</th>\n",
       "      <td>blues</td>\n",
       "    </tr>\n",
       "    <tr>\n",
       "      <th>3</th>\n",
       "      <td>blues</td>\n",
       "    </tr>\n",
       "    <tr>\n",
       "      <th>4</th>\n",
       "      <td>blues</td>\n",
       "    </tr>\n",
       "    <tr>\n",
       "      <th>...</th>\n",
       "      <td>...</td>\n",
       "    </tr>\n",
       "    <tr>\n",
       "      <th>4767655</th>\n",
       "      <td>rock</td>\n",
       "    </tr>\n",
       "    <tr>\n",
       "      <th>4767656</th>\n",
       "      <td>rock</td>\n",
       "    </tr>\n",
       "    <tr>\n",
       "      <th>4767657</th>\n",
       "      <td>rock</td>\n",
       "    </tr>\n",
       "    <tr>\n",
       "      <th>4767658</th>\n",
       "      <td>rock</td>\n",
       "    </tr>\n",
       "    <tr>\n",
       "      <th>4767659</th>\n",
       "      <td>rock</td>\n",
       "    </tr>\n",
       "  </tbody>\n",
       "</table>\n",
       "<p>4767660 rows × 1 columns</p>\n",
       "</div>"
      ],
      "text/plain": [
       "             0\n",
       "0        blues\n",
       "1        blues\n",
       "2        blues\n",
       "3        blues\n",
       "4        blues\n",
       "...        ...\n",
       "4767655   rock\n",
       "4767656   rock\n",
       "4767657   rock\n",
       "4767658   rock\n",
       "4767659   rock\n",
       "\n",
       "[4767660 rows x 1 columns]"
      ]
     },
     "execution_count": 9,
     "metadata": {},
     "output_type": "execute_result"
    }
   ],
   "source": [
    "pd.DataFrame(labels)"
   ]
  },
  {
   "cell_type": "markdown",
   "metadata": {},
   "source": [
    "# Me armo los database\n",
    "\n"
   ]
  },
  {
   "cell_type": "code",
   "execution_count": null,
   "metadata": {},
   "outputs": [],
   "source": []
  },
  {
   "cell_type": "markdown",
   "metadata": {},
   "source": [
    "## Separo la data de entrenamiento y la de test"
   ]
  },
  {
   "cell_type": "code",
   "execution_count": 10,
   "metadata": {},
   "outputs": [],
   "source": [
    "from sklearn.model_selection import train_test_split\n",
    "\n",
    "x_train, x_val, y_train, y_val = train_test_split( data, labels, test_size=0.1, random_state=42 )"
   ]
  },
  {
   "cell_type": "markdown",
   "metadata": {},
   "source": [
    "## Aplico Scalling al dataset"
   ]
  },
  {
   "cell_type": "code",
   "execution_count": 11,
   "metadata": {},
   "outputs": [],
   "source": [
    "#scaler = StandardScaler()\n",
    "#X_train_scaled = scaler.fit_transform(X_train.astype(np.float64))"
   ]
  },
  {
   "cell_type": "markdown",
   "metadata": {},
   "source": [
    "## Propongo el baseline\n",
    "\n",
    "Usaremos como baseline RandomForestClasification.\n",
    "\n",
    "Este modelo tiene como ventaja que puede clasificar directamente entre un grupo de multiples clases."
   ]
  },
  {
   "cell_type": "code",
   "execution_count": 12,
   "metadata": {},
   "outputs": [],
   "source": [
    "from sklearn.ensemble import RandomForestClassifier\n",
    "forest_clf = RandomForestClassifier(random_state=42,  n_jobs=-1, verbose=2, n_estimators=64, criterion=\"entropy\")\n",
    "forest_clf = RandomForestClassifier(random_state=123,  n_jobs=-1, verbose=0, n_estimators=1024, criterion=\"entropy\", max_depth=32, min_samples_leaf=0.01, max_features = 0.2)"
   ]
  },
  {
   "cell_type": "code",
   "execution_count": 13,
   "metadata": {},
   "outputs": [
    {
     "name": "stderr",
     "output_type": "stream",
     "text": [
      "[Parallel(n_jobs=-1)]: Using backend ThreadingBackend with 6 concurrent workers.\n"
     ]
    },
    {
     "name": "stdout",
     "output_type": "stream",
     "text": [
      "building tree 1 of 64\n",
      "building tree 2 of 64\n",
      "building tree 3 of 64\n",
      "building tree 4 of 64building tree 5 of 64\n",
      "\n",
      "building tree 6 of 64\n",
      "building tree 7 of 64\n",
      "building tree 8 of 64\n",
      "building tree 9 of 64\n",
      "building tree 10 of 64\n",
      "building tree 11 of 64\n",
      "building tree 12 of 64\n",
      "building tree 13 of 64\n",
      "building tree 14 of 64\n",
      "building tree 15 of 64\n",
      "building tree 16 of 64\n",
      "building tree 17 of 64\n",
      "building tree 18 of 64\n",
      "building tree 19 of 64\n",
      "building tree 20 of 64\n",
      "building tree 21 of 64\n",
      "building tree 22 of 64\n",
      "building tree 23 of 64\n",
      "building tree 24 of 64\n",
      "building tree 25 of 64\n",
      "building tree 26 of 64\n",
      "building tree 27 of 64\n",
      "building tree 28 of 64\n",
      "building tree 29 of 64\n",
      "building tree 30 of 64\n",
      "building tree 31 of 64\n",
      "building tree 32 of 64\n",
      "building tree 33 of 64\n",
      "building tree 34 of 64\n"
     ]
    },
    {
     "name": "stderr",
     "output_type": "stream",
     "text": [
      "[Parallel(n_jobs=-1)]: Done  29 tasks      | elapsed: 14.1min\n"
     ]
    },
    {
     "name": "stdout",
     "output_type": "stream",
     "text": [
      "building tree 35 of 64\n",
      "building tree 36 of 64\n",
      "building tree 37 of 64\n",
      "building tree 38 of 64\n",
      "building tree 39 of 64\n",
      "building tree 40 of 64\n",
      "building tree 41 of 64\n",
      "building tree 42 of 64\n",
      "building tree 43 of 64\n",
      "building tree 44 of 64\n",
      "building tree 45 of 64\n",
      "building tree 46 of 64\n",
      "building tree 47 of 64\n",
      "building tree 48 of 64\n",
      "building tree 49 of 64\n",
      "building tree 50 of 64\n",
      "building tree 51 of 64\n",
      "building tree 52 of 64\n",
      "building tree 53 of 64\n",
      "building tree 54 of 64\n",
      "building tree 55 of 64\n",
      "building tree 56 of 64\n",
      "building tree 57 of 64\n",
      "building tree 58 of 64\n",
      "building tree 59 of 64\n",
      "building tree 60 of 64\n",
      "building tree 61 of 64\n",
      "building tree 62 of 64\n",
      "building tree 63 of 64\n",
      "building tree 64 of 64\n"
     ]
    },
    {
     "name": "stderr",
     "output_type": "stream",
     "text": [
      "[Parallel(n_jobs=-1)]: Done  64 out of  64 | elapsed: 29.2min finished\n"
     ]
    },
    {
     "data": {
      "text/plain": [
       "RandomForestClassifier(criterion='entropy', n_estimators=64, n_jobs=-1,\n",
       "                       random_state=42, verbose=2)"
      ]
     },
     "execution_count": 13,
     "metadata": {},
     "output_type": "execute_result"
    }
   ],
   "source": [
    "forest_clf.fit(x_train, y_train)"
   ]
  },
  {
   "cell_type": "markdown",
   "metadata": {},
   "source": [
    "# Metricas"
   ]
  },
  {
   "cell_type": "code",
   "execution_count": 14,
   "metadata": {},
   "outputs": [
    {
     "name": "stderr",
     "output_type": "stream",
     "text": [
      "[Parallel(n_jobs=6)]: Using backend ThreadingBackend with 6 concurrent workers.\n",
      "[Parallel(n_jobs=6)]: Done  29 tasks      | elapsed:    7.2s\n",
      "[Parallel(n_jobs=6)]: Done  64 out of  64 | elapsed:   14.9s finished\n"
     ]
    },
    {
     "name": "stdout",
     "output_type": "stream",
     "text": [
      "Exactitud en set de entrenamiento:  15.686637796226147\n"
     ]
    },
    {
     "name": "stderr",
     "output_type": "stream",
     "text": [
      "[Parallel(n_jobs=6)]: Using backend ThreadingBackend with 6 concurrent workers.\n",
      "[Parallel(n_jobs=6)]: Done  29 tasks      | elapsed:    0.8s\n",
      "[Parallel(n_jobs=6)]: Done  64 out of  64 | elapsed:    1.7s finished\n"
     ]
    },
    {
     "name": "stdout",
     "output_type": "stream",
     "text": [
      "Exactitud en set de validación:  13.70630456030841\n"
     ]
    },
    {
     "name": "stderr",
     "output_type": "stream",
     "text": [
      "[Parallel(n_jobs=6)]: Using backend ThreadingBackend with 6 concurrent workers.\n",
      "[Parallel(n_jobs=6)]: Done  29 tasks      | elapsed:    0.8s\n",
      "[Parallel(n_jobs=6)]: Done  64 out of  64 | elapsed:    1.8s finished\n"
     ]
    },
    {
     "name": "stdout",
     "output_type": "stream",
     "text": [
      "Exactitud en set de prueba:  11.884886925661647\n"
     ]
    }
   ],
   "source": [
    "from sklearn.metrics import roc_auc_score, accuracy_score\n",
    "#roc_auc_score(np.array(y_train), forest_clf.predict(x_train))\n",
    "print(\"Exactitud en set de entrenamiento: \", accuracy_score(forest_clf.predict(x_train), y_train)*100)\n",
    "print(\"Exactitud en set de validación: \", accuracy_score(forest_clf.predict(x_val), y_val)*100)\n",
    "print(\"Exactitud en set de prueba: \", accuracy_score(forest_clf.predict(data_test), labels_test)*100)"
   ]
  },
  {
   "cell_type": "code",
   "execution_count": 15,
   "metadata": {},
   "outputs": [
    {
     "name": "stderr",
     "output_type": "stream",
     "text": [
      "/home/paredesj/anaconda3/lib/python3.7/site-packages/sklearn/utils/deprecation.py:87: FutureWarning: Function plot_confusion_matrix is deprecated; Function `plot_confusion_matrix` is deprecated in 1.0 and will be removed in 1.2. Use one of the class methods: ConfusionMatrixDisplay.from_predictions or ConfusionMatrixDisplay.from_estimator.\n",
      "  warnings.warn(msg, category=FutureWarning)\n",
      "[Parallel(n_jobs=6)]: Using backend ThreadingBackend with 6 concurrent workers.\n",
      "[Parallel(n_jobs=6)]: Done  29 tasks      | elapsed:    7.2s\n",
      "[Parallel(n_jobs=6)]: Done  64 out of  64 | elapsed:   15.0s finished\n"
     ]
    },
    {
     "data": {
      "text/plain": [
       "<sklearn.metrics._plot.confusion_matrix.ConfusionMatrixDisplay at 0x7fd59ad9bc10>"
      ]
     },
     "execution_count": 15,
     "metadata": {},
     "output_type": "execute_result"
    },
    {
     "data": {
      "image/png": "[encoded data removed]",
      "text/plain": [
       "<Figure size 1440x1440 with 2 Axes>"
      ]
     },
     "metadata": {
      "needs_background": "light"
     },
     "output_type": "display_data"
    }
   ],
   "source": [
    "from sklearn.metrics import ConfusionMatrixDisplay, confusion_matrix, plot_confusion_matrix\n",
    "\n",
    "fig, ax = plt.subplots(figsize=(20, 20))\n",
    "\n",
    "plot_confusion_matrix(forest_clf, x_train, y_train, ax=ax)"
   ]
  },
  {
   "cell_type": "code",
   "execution_count": 16,
   "metadata": {},
   "outputs": [
    {
     "name": "stderr",
     "output_type": "stream",
     "text": [
      "/home/paredesj/anaconda3/lib/python3.7/site-packages/sklearn/utils/deprecation.py:87: FutureWarning: Function plot_confusion_matrix is deprecated; Function `plot_confusion_matrix` is deprecated in 1.0 and will be removed in 1.2. Use one of the class methods: ConfusionMatrixDisplay.from_predictions or ConfusionMatrixDisplay.from_estimator.\n",
      "  warnings.warn(msg, category=FutureWarning)\n",
      "[Parallel(n_jobs=6)]: Using backend ThreadingBackend with 6 concurrent workers.\n",
      "[Parallel(n_jobs=6)]: Done  29 tasks      | elapsed:    0.8s\n",
      "[Parallel(n_jobs=6)]: Done  64 out of  64 | elapsed:    1.7s finished\n"
     ]
    },
    {
     "data": {
      "text/plain": [
       "<sklearn.metrics._plot.confusion_matrix.ConfusionMatrixDisplay at 0x7fd5d76ad250>"
      ]
     },
     "execution_count": 16,
     "metadata": {},
     "output_type": "execute_result"
    },
    {
     "data": {
      "image/png": "[encoded data removed]",
      "text/plain": [
       "<Figure size 1440x1440 with 2 Axes>"
      ]
     },
     "metadata": {
      "needs_background": "light"
     },
     "output_type": "display_data"
    }
   ],
   "source": [
    "fig, ax = plt.subplots(figsize=(20, 20))\n",
    "\n",
    "plot_confusion_matrix(forest_clf, x_val, y_val, ax=ax)"
   ]
  },
  {
   "cell_type": "code",
   "execution_count": 17,
   "metadata": {},
   "outputs": [
    {
     "name": "stderr",
     "output_type": "stream",
     "text": [
      "/home/paredesj/anaconda3/lib/python3.7/site-packages/sklearn/utils/deprecation.py:87: FutureWarning: Function plot_confusion_matrix is deprecated; Function `plot_confusion_matrix` is deprecated in 1.0 and will be removed in 1.2. Use one of the class methods: ConfusionMatrixDisplay.from_predictions or ConfusionMatrixDisplay.from_estimator.\n",
      "  warnings.warn(msg, category=FutureWarning)\n",
      "[Parallel(n_jobs=6)]: Using backend ThreadingBackend with 6 concurrent workers.\n",
      "[Parallel(n_jobs=6)]: Done  29 tasks      | elapsed:    0.9s\n",
      "[Parallel(n_jobs=6)]: Done  64 out of  64 | elapsed:    1.9s finished\n"
     ]
    },
    {
     "data": {
      "text/plain": [
       "<sklearn.metrics._plot.confusion_matrix.ConfusionMatrixDisplay at 0x7fd5d7456ed0>"
      ]
     },
     "execution_count": 17,
     "metadata": {},
     "output_type": "execute_result"
    },
    {
     "data": {
      "image/png": "[encoded data removed]",
      "text/plain": [
       "<Figure size 1440x1440 with 2 Axes>"
      ]
     },
     "metadata": {
      "needs_background": "light"
     },
     "output_type": "display_data"
    }
   ],
   "source": [
    "fig, ax = plt.subplots(figsize=(20, 20))\n",
    "\n",
    "plot_confusion_matrix(forest_clf, data_test, labels_test, ax=ax)"
   ]
  },
  {
   "cell_type": "code",
   "execution_count": null,
   "metadata": {},
   "outputs": [],
   "source": []
  }
 ],
 "metadata": {
  "hide_input": false,
  "kernelspec": {
   "display_name": "Python 3",
   "language": "python",
   "name": "python3"
  },
  "language_info": {
   "codemirror_mode": {
    "name": "ipython",
    "version": 3
   },
   "file_extension": ".py",
   "mimetype": "text/x-python",
   "name": "python",
   "nbconvert_exporter": "python",
   "pygments_lexer": "ipython3",
   "version": "3.7.4"
  },
  "toc": {
   "base_numbering": 1,
   "nav_menu": {},
   "number_sections": true,
   "sideBar": true,
   "skip_h1_title": false,
   "title_cell": "Table of Contents",
   "title_sidebar": "Contents",
   "toc_cell": false,
   "toc_position": {
    "height": "calc(100% - 180px)",
    "left": "10px",
    "top": "150px",
    "width": "384px"
   },
   "toc_section_display": true,
   "toc_window_display": false
  }
 },
 "nbformat": 4,
 "nbformat_minor": 5
}
