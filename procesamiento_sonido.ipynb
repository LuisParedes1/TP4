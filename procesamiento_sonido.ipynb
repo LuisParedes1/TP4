{
 "cells": [
  {
   "cell_type": "markdown",
   "id": "f62cade8",
   "metadata": {},
   "source": [
    "# Explicacion del [Video](https://youtu.be/zpswOQC5Gcg?t=889)"
   ]
  },
  {
   "cell_type": "code",
   "execution_count": 16,
   "id": "4627bfa4",
   "metadata": {},
   "outputs": [],
   "source": [
    "import matplotlib.pyplot as plt\n",
    "from scipy import signal\n",
    "import librosa"
   ]
  },
  {
   "cell_type": "code",
   "execution_count": 17,
   "id": "af55c12e",
   "metadata": {},
   "outputs": [],
   "source": [
    "sig, rate = librosa.load('disco.00008.wav',sr=20000)"
   ]
  },
  {
   "cell_type": "markdown",
   "id": "34c2b274",
   "metadata": {},
   "source": [
    "sr= significa que en el espectograma podra ver frecuencias de hasta 1000Hz (segun el teorema de Neickwiz)"
   ]
  },
  {
   "cell_type": "code",
   "execution_count": 18,
   "id": "e9b1e677",
   "metadata": {},
   "outputs": [
    {
     "data": {
      "text/plain": [
       "array([0.01353824, 0.04820874, 0.02752594, ..., 0.09134021, 0.18756716,\n",
       "       0.        ], dtype=float32)"
      ]
     },
     "execution_count": 18,
     "metadata": {},
     "output_type": "execute_result"
    }
   ],
   "source": [
    "sig"
   ]
  },
  {
   "cell_type": "markdown",
   "id": "fbeae273",
   "metadata": {},
   "source": [
    "Sig es una serie de tiempo en donde cada punto es la intensidad que registra el microfono.\n",
    "\n",
    "Es la precion que recibe del aire"
   ]
  },
  {
   "cell_type": "code",
   "execution_count": 19,
   "id": "206eba3c",
   "metadata": {},
   "outputs": [
    {
     "data": {
      "text/plain": [
       "(60323,)"
      ]
     },
     "execution_count": 19,
     "metadata": {},
     "output_type": "execute_result"
    }
   ],
   "source": [
    "sig.shape"
   ]
  },
  {
   "cell_type": "code",
   "execution_count": 20,
   "id": "d5d3b0ae",
   "metadata": {},
   "outputs": [
    {
     "data": {
      "text/plain": [
       "2000"
      ]
     },
     "execution_count": 20,
     "metadata": {},
     "output_type": "execute_result"
    }
   ],
   "source": [
    "rate"
   ]
  },
  {
   "cell_type": "markdown",
   "id": "33e67075",
   "metadata": {},
   "source": [
    "rate es el parametro sr que le pasamos"
   ]
  },
  {
   "cell_type": "code",
   "execution_count": 21,
   "id": "99d9ea84",
   "metadata": {},
   "outputs": [],
   "source": [
    "frequencies, times, spectrogram = signal.spectrogram(sig,rate)"
   ]
  },
  {
   "cell_type": "code",
   "execution_count": 22,
   "id": "259e5412",
   "metadata": {},
   "outputs": [
    {
     "data": {
      "text/plain": [
       "array([   0.    ,    7.8125,   15.625 ,   23.4375,   31.25  ,   39.0625,\n",
       "         46.875 ,   54.6875,   62.5   ,   70.3125,   78.125 ,   85.9375,\n",
       "         93.75  ,  101.5625,  109.375 ,  117.1875,  125.    ,  132.8125,\n",
       "        140.625 ,  148.4375,  156.25  ,  164.0625,  171.875 ,  179.6875,\n",
       "        187.5   ,  195.3125,  203.125 ,  210.9375,  218.75  ,  226.5625,\n",
       "        234.375 ,  242.1875,  250.    ,  257.8125,  265.625 ,  273.4375,\n",
       "        281.25  ,  289.0625,  296.875 ,  304.6875,  312.5   ,  320.3125,\n",
       "        328.125 ,  335.9375,  343.75  ,  351.5625,  359.375 ,  367.1875,\n",
       "        375.    ,  382.8125,  390.625 ,  398.4375,  406.25  ,  414.0625,\n",
       "        421.875 ,  429.6875,  437.5   ,  445.3125,  453.125 ,  460.9375,\n",
       "        468.75  ,  476.5625,  484.375 ,  492.1875,  500.    ,  507.8125,\n",
       "        515.625 ,  523.4375,  531.25  ,  539.0625,  546.875 ,  554.6875,\n",
       "        562.5   ,  570.3125,  578.125 ,  585.9375,  593.75  ,  601.5625,\n",
       "        609.375 ,  617.1875,  625.    ,  632.8125,  640.625 ,  648.4375,\n",
       "        656.25  ,  664.0625,  671.875 ,  679.6875,  687.5   ,  695.3125,\n",
       "        703.125 ,  710.9375,  718.75  ,  726.5625,  734.375 ,  742.1875,\n",
       "        750.    ,  757.8125,  765.625 ,  773.4375,  781.25  ,  789.0625,\n",
       "        796.875 ,  804.6875,  812.5   ,  820.3125,  828.125 ,  835.9375,\n",
       "        843.75  ,  851.5625,  859.375 ,  867.1875,  875.    ,  882.8125,\n",
       "        890.625 ,  898.4375,  906.25  ,  914.0625,  921.875 ,  929.6875,\n",
       "        937.5   ,  945.3125,  953.125 ,  960.9375,  968.75  ,  976.5625,\n",
       "        984.375 ,  992.1875, 1000.    ])"
      ]
     },
     "execution_count": 22,
     "metadata": {},
     "output_type": "execute_result"
    }
   ],
   "source": [
    "frequencies"
   ]
  },
  {
   "cell_type": "markdown",
   "id": "24f5fdaf",
   "metadata": {},
   "source": [
    "frecuencies: todas las frecuencias en el eje y"
   ]
  },
  {
   "cell_type": "code",
   "execution_count": 23,
   "id": "be09c771",
   "metadata": {},
   "outputs": [
    {
     "data": {
      "text/plain": [
       "(129,)"
      ]
     },
     "execution_count": 23,
     "metadata": {},
     "output_type": "execute_result"
    }
   ],
   "source": [
    "frequencies.shape"
   ]
  },
  {
   "cell_type": "code",
   "execution_count": 24,
   "id": "07e2d3d7",
   "metadata": {},
   "outputs": [
    {
     "data": {
      "text/plain": [
       "array([ 0.064,  0.176,  0.288,  0.4  ,  0.512,  0.624,  0.736,  0.848,\n",
       "        0.96 ,  1.072,  1.184,  1.296,  1.408,  1.52 ,  1.632,  1.744,\n",
       "        1.856,  1.968,  2.08 ,  2.192,  2.304,  2.416,  2.528,  2.64 ,\n",
       "        2.752,  2.864,  2.976,  3.088,  3.2  ,  3.312,  3.424,  3.536,\n",
       "        3.648,  3.76 ,  3.872,  3.984,  4.096,  4.208,  4.32 ,  4.432,\n",
       "        4.544,  4.656,  4.768,  4.88 ,  4.992,  5.104,  5.216,  5.328,\n",
       "        5.44 ,  5.552,  5.664,  5.776,  5.888,  6.   ,  6.112,  6.224,\n",
       "        6.336,  6.448,  6.56 ,  6.672,  6.784,  6.896,  7.008,  7.12 ,\n",
       "        7.232,  7.344,  7.456,  7.568,  7.68 ,  7.792,  7.904,  8.016,\n",
       "        8.128,  8.24 ,  8.352,  8.464,  8.576,  8.688,  8.8  ,  8.912,\n",
       "        9.024,  9.136,  9.248,  9.36 ,  9.472,  9.584,  9.696,  9.808,\n",
       "        9.92 , 10.032, 10.144, 10.256, 10.368, 10.48 , 10.592, 10.704,\n",
       "       10.816, 10.928, 11.04 , 11.152, 11.264, 11.376, 11.488, 11.6  ,\n",
       "       11.712, 11.824, 11.936, 12.048, 12.16 , 12.272, 12.384, 12.496,\n",
       "       12.608, 12.72 , 12.832, 12.944, 13.056, 13.168, 13.28 , 13.392,\n",
       "       13.504, 13.616, 13.728, 13.84 , 13.952, 14.064, 14.176, 14.288,\n",
       "       14.4  , 14.512, 14.624, 14.736, 14.848, 14.96 , 15.072, 15.184,\n",
       "       15.296, 15.408, 15.52 , 15.632, 15.744, 15.856, 15.968, 16.08 ,\n",
       "       16.192, 16.304, 16.416, 16.528, 16.64 , 16.752, 16.864, 16.976,\n",
       "       17.088, 17.2  , 17.312, 17.424, 17.536, 17.648, 17.76 , 17.872,\n",
       "       17.984, 18.096, 18.208, 18.32 , 18.432, 18.544, 18.656, 18.768,\n",
       "       18.88 , 18.992, 19.104, 19.216, 19.328, 19.44 , 19.552, 19.664,\n",
       "       19.776, 19.888, 20.   , 20.112, 20.224, 20.336, 20.448, 20.56 ,\n",
       "       20.672, 20.784, 20.896, 21.008, 21.12 , 21.232, 21.344, 21.456,\n",
       "       21.568, 21.68 , 21.792, 21.904, 22.016, 22.128, 22.24 , 22.352,\n",
       "       22.464, 22.576, 22.688, 22.8  , 22.912, 23.024, 23.136, 23.248,\n",
       "       23.36 , 23.472, 23.584, 23.696, 23.808, 23.92 , 24.032, 24.144,\n",
       "       24.256, 24.368, 24.48 , 24.592, 24.704, 24.816, 24.928, 25.04 ,\n",
       "       25.152, 25.264, 25.376, 25.488, 25.6  , 25.712, 25.824, 25.936,\n",
       "       26.048, 26.16 , 26.272, 26.384, 26.496, 26.608, 26.72 , 26.832,\n",
       "       26.944, 27.056, 27.168, 27.28 , 27.392, 27.504, 27.616, 27.728,\n",
       "       27.84 , 27.952, 28.064, 28.176, 28.288, 28.4  , 28.512, 28.624,\n",
       "       28.736, 28.848, 28.96 , 29.072, 29.184, 29.296, 29.408, 29.52 ,\n",
       "       29.632, 29.744, 29.856, 29.968, 30.08 ])"
      ]
     },
     "execution_count": 24,
     "metadata": {},
     "output_type": "execute_result"
    }
   ],
   "source": [
    "times"
   ]
  },
  {
   "cell_type": "markdown",
   "id": "473374a8",
   "metadata": {},
   "source": [
    "times: todos los tiempos que estaran en el eje x"
   ]
  },
  {
   "cell_type": "code",
   "execution_count": 25,
   "id": "0e641194",
   "metadata": {},
   "outputs": [
    {
     "data": {
      "text/plain": [
       "(269,)"
      ]
     },
     "execution_count": 25,
     "metadata": {},
     "output_type": "execute_result"
    }
   ],
   "source": [
    "times.shape"
   ]
  },
  {
   "cell_type": "code",
   "execution_count": 26,
   "id": "81c2c685",
   "metadata": {},
   "outputs": [
    {
     "data": {
      "text/plain": [
       "array([[1.4682418e-05, 8.3147879e-06, 3.7375903e-06, ..., 1.0756733e-05,\n",
       "        1.0709517e-07, 2.0867446e-08],\n",
       "       [5.2232984e-08, 5.5474948e-06, 1.4687807e-07, ..., 1.1665287e-06,\n",
       "        1.7410770e-07, 1.2504539e-07],\n",
       "       [9.7953750e-07, 6.0364528e-06, 3.9972193e-07, ..., 1.2560710e-06,\n",
       "        4.7136444e-07, 3.1577041e-08],\n",
       "       ...,\n",
       "       [1.8397902e-09, 5.7785171e-10, 8.3009877e-10, ..., 3.4579647e-10,\n",
       "        1.7383762e-09, 6.2054832e-09],\n",
       "       [3.2651890e-10, 3.3223990e-10, 4.2382653e-10, ..., 7.6889557e-11,\n",
       "        1.3649976e-09, 1.0981396e-09],\n",
       "       [1.5234150e-10, 6.0907258e-11, 2.4010038e-10, ..., 9.1776868e-13,\n",
       "        6.6516642e-10, 8.2902928e-11]], dtype=float32)"
      ]
     },
     "execution_count": 26,
     "metadata": {},
     "output_type": "execute_result"
    }
   ],
   "source": [
    "spectrogram"
   ]
  },
  {
   "cell_type": "code",
   "execution_count": 27,
   "id": "65534769",
   "metadata": {},
   "outputs": [
    {
     "data": {
      "text/plain": [
       "(129, 269)"
      ]
     },
     "execution_count": 27,
     "metadata": {},
     "output_type": "execute_result"
    }
   ],
   "source": [
    "spectrogram.shape"
   ]
  },
  {
   "cell_type": "markdown",
   "id": "e8be2766",
   "metadata": {},
   "source": [
    "sprectrogram es un arreglo de dimension (129,269) donde para 129 es cada frecuencia, 269 cada instante de tiempo y en cada combinacion tengo la energia.\n",
    "\n",
    "(0,0.064) = 1.4682418e-05, para la frecuencia 0 en el instante 0, tengo la energia 1.4682418e-05"
   ]
  },
  {
   "cell_type": "code",
   "execution_count": 28,
   "id": "9353f4e4",
   "metadata": {},
   "outputs": [
    {
     "data": {
      "text/plain": [
       "(269, 129)"
      ]
     },
     "execution_count": 28,
     "metadata": {},
     "output_type": "execute_result"
    }
   ],
   "source": [
    "spectrogram.T.shape"
   ]
  },
  {
   "cell_type": "markdown",
   "id": "53e7b11e",
   "metadata": {},
   "source": [
    "La matriz transpuesta nos da la serie del tiempo.\n",
    "\n",
    "Esta matriz tal cual esta se puede alimentar a un RNN o a una convolucion de una dimension"
   ]
  },
  {
   "cell_type": "markdown",
   "id": "42ec2ec8",
   "metadata": {},
   "source": [
    "# Grafico el Espectrograma"
   ]
  },
  {
   "cell_type": "code",
   "execution_count": 29,
   "id": "761ee19b",
   "metadata": {},
   "outputs": [
    {
     "name": "stderr",
     "output_type": "stream",
     "text": [
      "/tmp/ipykernel_41689/3332511798.py:1: MatplotlibDeprecationWarning: shading='flat' when X and Y have the same dimensions as C is deprecated since 3.3.  Either specify the corners of the quadrilaterals with X and Y, or pass shading='auto', 'nearest' or 'gouraud', or set rcParams['pcolor.shading'].  This will become an error two minor releases later.\n",
      "  ax = plt.pcolormesh(times, frequencies, spectrogram)\n"
     ]
    },
    {
     "data": {
      "text/plain": [
       "(0.064, 30.08, 0.0, 1000.0)"
      ]
     },
     "execution_count": 29,
     "metadata": {},
     "output_type": "execute_result"
    },
    {
     "data": {
      "image/png": "[encoded data removed]",
      "text/plain": [
       "<Figure size 432x288 with 1 Axes>"
      ]
     },
     "metadata": {
      "needs_background": "light"
     },
     "output_type": "display_data"
    }
   ],
   "source": [
    "ax = plt.pcolormesh(times, frequencies, spectrogram)\n",
    "plt.axis('off')"
   ]
  },
  {
   "cell_type": "markdown",
   "id": "95c28469",
   "metadata": {},
   "source": [
    "# Adicional\n",
    "\n",
    "Se pueden tomar promedios"
   ]
  },
  {
   "cell_type": "code",
   "execution_count": 30,
   "id": "be626c3c",
   "metadata": {},
   "outputs": [
    {
     "data": {
      "text/plain": [
       "array([4.41339507e-05, 4.52862805e-05, 5.27800285e-06, 1.45144259e-06,\n",
       "       3.92962733e-07, 1.09290522e-04, 6.06724598e-06, 4.20351444e-06,\n",
       "       2.21564369e-06, 7.41011900e-05, 2.12003124e-05, 3.71462374e-06,\n",
       "       7.86900728e-06, 4.78979200e-05, 8.89951407e-05, 1.19941451e-05,\n",
       "       2.04163985e-06, 9.42485485e-07, 8.08508121e-05, 7.67291749e-06,\n",
       "       4.98984491e-06, 3.35698815e-06, 6.04652560e-05, 5.44036120e-05,\n",
       "       7.60697594e-06, 9.74268823e-06, 3.85189060e-06, 8.69321157e-05,\n",
       "       1.68458755e-05, 4.52112909e-06, 7.95339747e-06, 7.47604790e-05,\n",
       "       1.80883380e-05, 1.00960460e-05, 1.25335600e-05, 1.15360890e-05,\n",
       "       6.61025115e-05, 1.17131667e-05, 1.35090668e-05, 1.36528415e-05,\n",
       "       5.41120353e-05, 1.38877667e-05, 3.75400850e-06, 4.48300807e-06,\n",
       "       2.19089943e-05, 5.06112628e-05, 4.67576638e-06, 7.29644671e-06,\n",
       "       8.28592420e-06, 6.54815303e-05, 3.47305809e-06, 6.34394382e-06,\n",
       "       6.74352032e-06, 4.94117303e-05, 1.01283849e-05, 3.91542562e-06,\n",
       "       1.38867172e-05, 7.53685072e-06, 6.89034277e-05, 2.68644635e-06,\n",
       "       1.36294002e-05, 5.49115657e-06, 5.77494138e-05, 7.00885039e-06,\n",
       "       3.31313367e-06, 5.35820072e-06, 2.44989842e-05, 4.83736512e-05,\n",
       "       4.04856473e-06, 1.39913418e-05, 6.11618862e-06, 6.60698788e-05,\n",
       "       9.92855439e-06, 2.47911685e-05, 3.25119108e-05, 5.40080364e-05,\n",
       "       2.77173804e-05, 6.45319142e-06, 4.52081531e-06, 3.94799645e-06,\n",
       "       7.49257742e-05, 6.69662722e-06, 1.40949305e-06, 2.05818869e-05,\n",
       "       9.11803509e-05, 1.62949891e-05, 4.42689179e-06, 3.50669870e-06,\n",
       "       2.84613834e-05, 5.22670052e-05, 5.70439397e-06, 1.75220830e-05,\n",
       "       9.93404956e-06, 7.59957111e-05, 9.67941651e-06, 4.86132058e-06,\n",
       "       7.81299059e-06, 4.48234641e-05, 3.37653692e-05, 3.29476893e-06,\n",
       "       1.53300134e-05, 2.33751289e-05, 1.05883300e-04, 1.06625866e-05,\n",
       "       6.57552255e-06, 1.70816002e-05, 7.20786629e-05, 1.25323613e-05,\n",
       "       1.29600567e-05, 1.39774611e-05, 2.20658021e-05, 7.12551046e-05,\n",
       "       7.45079387e-06, 9.93003778e-06, 1.14963750e-05, 8.12773651e-05,\n",
       "       6.76595801e-06, 2.45729916e-06, 1.11185363e-05, 7.47032100e-05,\n",
       "       3.48592293e-05, 2.45372416e-06, 1.81340192e-06, 6.30855902e-06,\n",
       "       7.38456802e-05, 5.81200129e-06, 1.23416285e-05, 8.86325142e-06,\n",
       "       7.74400469e-05, 1.64328085e-05, 1.02307467e-05, 1.14799059e-05,\n",
       "       6.31946605e-05, 3.88336084e-05, 6.45387718e-06, 6.36440427e-06,\n",
       "       1.02094682e-05, 8.90122465e-05, 1.04018227e-05, 1.64691949e-06,\n",
       "       4.34186813e-06, 6.46475455e-05, 1.18039234e-05, 6.32554429e-06,\n",
       "       1.41150313e-05, 2.77450436e-05, 5.83196088e-05, 8.15123531e-06,\n",
       "       1.25332590e-05, 4.55696909e-06, 8.27551994e-05, 9.09002028e-06,\n",
       "       7.72965268e-06, 1.22302426e-05, 6.71973103e-05, 3.31974152e-05,\n",
       "       2.38967596e-06, 1.75969274e-06, 1.23407608e-05, 8.44885508e-05,\n",
       "       8.76671493e-06, 2.22856966e-06, 8.67843755e-06, 9.22659237e-05,\n",
       "       1.55885682e-05, 7.27725819e-06, 4.34977574e-06, 4.40702861e-05,\n",
       "       3.77374090e-05, 4.32856768e-06, 7.84923850e-06, 9.97808002e-06,\n",
       "       6.39961945e-05, 7.92397077e-06, 9.17709258e-06, 1.36336803e-05,\n",
       "       4.67313912e-05, 3.19628052e-05, 1.19602300e-05, 1.09269822e-05,\n",
       "       1.85940405e-06, 8.11128994e-05, 9.98066935e-06, 1.04221135e-05,\n",
       "       1.19339238e-05, 5.18235756e-05, 2.54104270e-05, 2.95827476e-06,\n",
       "       1.03745733e-05, 1.79892631e-05, 7.81892741e-05, 5.01078830e-06,\n",
       "       2.34660602e-05, 9.22968229e-06, 7.22721306e-05, 6.48759806e-06,\n",
       "       5.85483349e-06, 1.65336151e-05, 5.77073661e-05, 4.03096637e-05,\n",
       "       4.89253716e-06, 2.23235329e-05, 5.73470288e-06, 7.42250340e-05,\n",
       "       7.81223935e-06, 9.64529318e-06, 8.54704467e-06, 5.05620228e-05,\n",
       "       2.71270565e-05, 1.20948171e-05, 1.36120034e-05, 9.32610874e-06,\n",
       "       7.30760294e-05, 1.35609116e-05, 1.21876456e-05, 1.20179641e-06,\n",
       "       5.28766141e-05, 2.02866049e-05, 1.05205945e-05, 9.48154593e-06,\n",
       "       1.14686627e-05, 6.41185543e-05, 2.50946596e-06, 9.99799613e-06,\n",
       "       1.29772889e-05, 7.38128947e-05, 1.05563386e-05, 1.29637456e-05,\n",
       "       3.10243449e-05, 3.61012535e-05, 4.90104940e-05, 4.05538322e-06,\n",
       "       1.62708457e-05, 9.73447823e-06, 9.48183661e-05, 1.21908151e-05,\n",
       "       8.24548624e-06, 1.04142064e-05, 4.71851890e-05, 3.58677280e-05,\n",
       "       3.38972177e-06, 1.06190737e-05, 6.22614061e-06, 7.18244410e-05,\n",
       "       6.18458171e-06, 3.92858601e-06, 4.45573232e-06, 5.13705127e-05,\n",
       "       2.21757145e-05, 5.67317966e-06, 3.82085909e-06, 3.16327419e-06,\n",
       "       9.42417901e-05, 1.40448501e-05, 1.99039641e-05, 3.39528888e-05,\n",
       "       7.42179254e-05, 2.84000525e-05, 1.77327383e-05, 3.56125383e-05,\n",
       "       3.21777152e-05, 8.60913497e-05, 9.27600377e-06, 6.68263237e-06,\n",
       "       1.22942229e-05, 8.54428145e-05, 9.94910988e-06, 5.86717761e-06,\n",
       "       1.32510095e-05], dtype=float32)"
      ]
     },
     "execution_count": 30,
     "metadata": {},
     "output_type": "execute_result"
    }
   ],
   "source": [
    "import numpy as np\n",
    "\n",
    "np.mean(spectrogram.T,axis=1)"
   ]
  },
  {
   "cell_type": "markdown",
   "id": "7660d38b",
   "metadata": {},
   "source": [
    "Esto me devuelve el promedio de la intensidad para cada frecuencia.\n",
    "\n",
    "Con esta serie del tiempo se pueden sacar muchos features.\n",
    "\n",
    "Pero se pierde informacion."
   ]
  }
 ],
 "metadata": {
  "kernelspec": {
   "display_name": "organizacionDatos",
   "language": "python",
   "name": "organizaciondatos"
  },
  "language_info": {
   "codemirror_mode": {
    "name": "ipython",
    "version": 3
   },
   "file_extension": ".py",
   "mimetype": "text/x-python",
   "name": "python",
   "nbconvert_exporter": "python",
   "pygments_lexer": "ipython3",
   "version": "3.9.6"
  }
 },
 "nbformat": 4,
 "nbformat_minor": 5
}
